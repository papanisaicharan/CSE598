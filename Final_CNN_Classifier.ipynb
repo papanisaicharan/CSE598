{
  "nbformat": 4,
  "nbformat_minor": 0,
  "metadata": {
    "colab": {
      "provenance": []
    },
    "kernelspec": {
      "name": "python3",
      "display_name": "Python 3"
    },
    "language_info": {
      "name": "python"
    },
    "accelerator": "GPU",
    "gpuClass": "standard",
    "widgets": {
      "application/vnd.jupyter.widget-state+json": {
        "56af52f97d284c1287065e3ef62469a9": {
          "model_module": "@jupyter-widgets/controls",
          "model_name": "HBoxModel",
          "model_module_version": "1.5.0",
          "state": {
            "_dom_classes": [],
            "_model_module": "@jupyter-widgets/controls",
            "_model_module_version": "1.5.0",
            "_model_name": "HBoxModel",
            "_view_count": null,
            "_view_module": "@jupyter-widgets/controls",
            "_view_module_version": "1.5.0",
            "_view_name": "HBoxView",
            "box_style": "",
            "children": [
              "IPY_MODEL_e0f267a175aa4058b38016cf611cf2d1",
              "IPY_MODEL_a2222062965a40579175d4bd41773e26",
              "IPY_MODEL_3dfdfae662b44fb8bcec4d8d30d6111c"
            ],
            "layout": "IPY_MODEL_5399c457f0b04994b8e8071efdc7f676"
          }
        },
        "e0f267a175aa4058b38016cf611cf2d1": {
          "model_module": "@jupyter-widgets/controls",
          "model_name": "HTMLModel",
          "model_module_version": "1.5.0",
          "state": {
            "_dom_classes": [],
            "_model_module": "@jupyter-widgets/controls",
            "_model_module_version": "1.5.0",
            "_model_name": "HTMLModel",
            "_view_count": null,
            "_view_module": "@jupyter-widgets/controls",
            "_view_module_version": "1.5.0",
            "_view_name": "HTMLView",
            "description": "",
            "description_tooltip": null,
            "layout": "IPY_MODEL_99a5ac5c446548fa8433dc4fd4fe30ee",
            "placeholder": "​",
            "style": "IPY_MODEL_1e13b0b4392d4265a7564d71f3bc5114",
            "value": "100%"
          }
        },
        "a2222062965a40579175d4bd41773e26": {
          "model_module": "@jupyter-widgets/controls",
          "model_name": "FloatProgressModel",
          "model_module_version": "1.5.0",
          "state": {
            "_dom_classes": [],
            "_model_module": "@jupyter-widgets/controls",
            "_model_module_version": "1.5.0",
            "_model_name": "FloatProgressModel",
            "_view_count": null,
            "_view_module": "@jupyter-widgets/controls",
            "_view_module_version": "1.5.0",
            "_view_name": "ProgressView",
            "bar_style": "success",
            "description": "",
            "description_tooltip": null,
            "layout": "IPY_MODEL_849ce09316164808afa968a253311386",
            "max": 9912422,
            "min": 0,
            "orientation": "horizontal",
            "style": "IPY_MODEL_1144c96a9cd248098af9025e2432b7b4",
            "value": 9912422
          }
        },
        "3dfdfae662b44fb8bcec4d8d30d6111c": {
          "model_module": "@jupyter-widgets/controls",
          "model_name": "HTMLModel",
          "model_module_version": "1.5.0",
          "state": {
            "_dom_classes": [],
            "_model_module": "@jupyter-widgets/controls",
            "_model_module_version": "1.5.0",
            "_model_name": "HTMLModel",
            "_view_count": null,
            "_view_module": "@jupyter-widgets/controls",
            "_view_module_version": "1.5.0",
            "_view_name": "HTMLView",
            "description": "",
            "description_tooltip": null,
            "layout": "IPY_MODEL_afb6d963c8744d1baf8efddb75718437",
            "placeholder": "​",
            "style": "IPY_MODEL_63a30a040225495bb7688c3c01a9593a",
            "value": " 9912422/9912422 [00:00&lt;00:00, 129383517.13it/s]"
          }
        },
        "5399c457f0b04994b8e8071efdc7f676": {
          "model_module": "@jupyter-widgets/base",
          "model_name": "LayoutModel",
          "model_module_version": "1.2.0",
          "state": {
            "_model_module": "@jupyter-widgets/base",
            "_model_module_version": "1.2.0",
            "_model_name": "LayoutModel",
            "_view_count": null,
            "_view_module": "@jupyter-widgets/base",
            "_view_module_version": "1.2.0",
            "_view_name": "LayoutView",
            "align_content": null,
            "align_items": null,
            "align_self": null,
            "border": null,
            "bottom": null,
            "display": null,
            "flex": null,
            "flex_flow": null,
            "grid_area": null,
            "grid_auto_columns": null,
            "grid_auto_flow": null,
            "grid_auto_rows": null,
            "grid_column": null,
            "grid_gap": null,
            "grid_row": null,
            "grid_template_areas": null,
            "grid_template_columns": null,
            "grid_template_rows": null,
            "height": null,
            "justify_content": null,
            "justify_items": null,
            "left": null,
            "margin": null,
            "max_height": null,
            "max_width": null,
            "min_height": null,
            "min_width": null,
            "object_fit": null,
            "object_position": null,
            "order": null,
            "overflow": null,
            "overflow_x": null,
            "overflow_y": null,
            "padding": null,
            "right": null,
            "top": null,
            "visibility": null,
            "width": null
          }
        },
        "99a5ac5c446548fa8433dc4fd4fe30ee": {
          "model_module": "@jupyter-widgets/base",
          "model_name": "LayoutModel",
          "model_module_version": "1.2.0",
          "state": {
            "_model_module": "@jupyter-widgets/base",
            "_model_module_version": "1.2.0",
            "_model_name": "LayoutModel",
            "_view_count": null,
            "_view_module": "@jupyter-widgets/base",
            "_view_module_version": "1.2.0",
            "_view_name": "LayoutView",
            "align_content": null,
            "align_items": null,
            "align_self": null,
            "border": null,
            "bottom": null,
            "display": null,
            "flex": null,
            "flex_flow": null,
            "grid_area": null,
            "grid_auto_columns": null,
            "grid_auto_flow": null,
            "grid_auto_rows": null,
            "grid_column": null,
            "grid_gap": null,
            "grid_row": null,
            "grid_template_areas": null,
            "grid_template_columns": null,
            "grid_template_rows": null,
            "height": null,
            "justify_content": null,
            "justify_items": null,
            "left": null,
            "margin": null,
            "max_height": null,
            "max_width": null,
            "min_height": null,
            "min_width": null,
            "object_fit": null,
            "object_position": null,
            "order": null,
            "overflow": null,
            "overflow_x": null,
            "overflow_y": null,
            "padding": null,
            "right": null,
            "top": null,
            "visibility": null,
            "width": null
          }
        },
        "1e13b0b4392d4265a7564d71f3bc5114": {
          "model_module": "@jupyter-widgets/controls",
          "model_name": "DescriptionStyleModel",
          "model_module_version": "1.5.0",
          "state": {
            "_model_module": "@jupyter-widgets/controls",
            "_model_module_version": "1.5.0",
            "_model_name": "DescriptionStyleModel",
            "_view_count": null,
            "_view_module": "@jupyter-widgets/base",
            "_view_module_version": "1.2.0",
            "_view_name": "StyleView",
            "description_width": ""
          }
        },
        "849ce09316164808afa968a253311386": {
          "model_module": "@jupyter-widgets/base",
          "model_name": "LayoutModel",
          "model_module_version": "1.2.0",
          "state": {
            "_model_module": "@jupyter-widgets/base",
            "_model_module_version": "1.2.0",
            "_model_name": "LayoutModel",
            "_view_count": null,
            "_view_module": "@jupyter-widgets/base",
            "_view_module_version": "1.2.0",
            "_view_name": "LayoutView",
            "align_content": null,
            "align_items": null,
            "align_self": null,
            "border": null,
            "bottom": null,
            "display": null,
            "flex": null,
            "flex_flow": null,
            "grid_area": null,
            "grid_auto_columns": null,
            "grid_auto_flow": null,
            "grid_auto_rows": null,
            "grid_column": null,
            "grid_gap": null,
            "grid_row": null,
            "grid_template_areas": null,
            "grid_template_columns": null,
            "grid_template_rows": null,
            "height": null,
            "justify_content": null,
            "justify_items": null,
            "left": null,
            "margin": null,
            "max_height": null,
            "max_width": null,
            "min_height": null,
            "min_width": null,
            "object_fit": null,
            "object_position": null,
            "order": null,
            "overflow": null,
            "overflow_x": null,
            "overflow_y": null,
            "padding": null,
            "right": null,
            "top": null,
            "visibility": null,
            "width": null
          }
        },
        "1144c96a9cd248098af9025e2432b7b4": {
          "model_module": "@jupyter-widgets/controls",
          "model_name": "ProgressStyleModel",
          "model_module_version": "1.5.0",
          "state": {
            "_model_module": "@jupyter-widgets/controls",
            "_model_module_version": "1.5.0",
            "_model_name": "ProgressStyleModel",
            "_view_count": null,
            "_view_module": "@jupyter-widgets/base",
            "_view_module_version": "1.2.0",
            "_view_name": "StyleView",
            "bar_color": null,
            "description_width": ""
          }
        },
        "afb6d963c8744d1baf8efddb75718437": {
          "model_module": "@jupyter-widgets/base",
          "model_name": "LayoutModel",
          "model_module_version": "1.2.0",
          "state": {
            "_model_module": "@jupyter-widgets/base",
            "_model_module_version": "1.2.0",
            "_model_name": "LayoutModel",
            "_view_count": null,
            "_view_module": "@jupyter-widgets/base",
            "_view_module_version": "1.2.0",
            "_view_name": "LayoutView",
            "align_content": null,
            "align_items": null,
            "align_self": null,
            "border": null,
            "bottom": null,
            "display": null,
            "flex": null,
            "flex_flow": null,
            "grid_area": null,
            "grid_auto_columns": null,
            "grid_auto_flow": null,
            "grid_auto_rows": null,
            "grid_column": null,
            "grid_gap": null,
            "grid_row": null,
            "grid_template_areas": null,
            "grid_template_columns": null,
            "grid_template_rows": null,
            "height": null,
            "justify_content": null,
            "justify_items": null,
            "left": null,
            "margin": null,
            "max_height": null,
            "max_width": null,
            "min_height": null,
            "min_width": null,
            "object_fit": null,
            "object_position": null,
            "order": null,
            "overflow": null,
            "overflow_x": null,
            "overflow_y": null,
            "padding": null,
            "right": null,
            "top": null,
            "visibility": null,
            "width": null
          }
        },
        "63a30a040225495bb7688c3c01a9593a": {
          "model_module": "@jupyter-widgets/controls",
          "model_name": "DescriptionStyleModel",
          "model_module_version": "1.5.0",
          "state": {
            "_model_module": "@jupyter-widgets/controls",
            "_model_module_version": "1.5.0",
            "_model_name": "DescriptionStyleModel",
            "_view_count": null,
            "_view_module": "@jupyter-widgets/base",
            "_view_module_version": "1.2.0",
            "_view_name": "StyleView",
            "description_width": ""
          }
        },
        "e2aef4996e8f4de994a48f7fd74dfa0c": {
          "model_module": "@jupyter-widgets/controls",
          "model_name": "HBoxModel",
          "model_module_version": "1.5.0",
          "state": {
            "_dom_classes": [],
            "_model_module": "@jupyter-widgets/controls",
            "_model_module_version": "1.5.0",
            "_model_name": "HBoxModel",
            "_view_count": null,
            "_view_module": "@jupyter-widgets/controls",
            "_view_module_version": "1.5.0",
            "_view_name": "HBoxView",
            "box_style": "",
            "children": [
              "IPY_MODEL_4715252df2a641e79883e10dcf3c8c71",
              "IPY_MODEL_1a462ba9fb69444cb8121b88fb7b909e",
              "IPY_MODEL_d8f8171cc219487484548b095e9065c2"
            ],
            "layout": "IPY_MODEL_9a928bfb3e264a2fa7b176c7ea20929b"
          }
        },
        "4715252df2a641e79883e10dcf3c8c71": {
          "model_module": "@jupyter-widgets/controls",
          "model_name": "HTMLModel",
          "model_module_version": "1.5.0",
          "state": {
            "_dom_classes": [],
            "_model_module": "@jupyter-widgets/controls",
            "_model_module_version": "1.5.0",
            "_model_name": "HTMLModel",
            "_view_count": null,
            "_view_module": "@jupyter-widgets/controls",
            "_view_module_version": "1.5.0",
            "_view_name": "HTMLView",
            "description": "",
            "description_tooltip": null,
            "layout": "IPY_MODEL_fe80285ad66440e7b38419ca57a814fd",
            "placeholder": "​",
            "style": "IPY_MODEL_03cf2b31c9db4a7ea4b78f553c2cde6e",
            "value": "100%"
          }
        },
        "1a462ba9fb69444cb8121b88fb7b909e": {
          "model_module": "@jupyter-widgets/controls",
          "model_name": "FloatProgressModel",
          "model_module_version": "1.5.0",
          "state": {
            "_dom_classes": [],
            "_model_module": "@jupyter-widgets/controls",
            "_model_module_version": "1.5.0",
            "_model_name": "FloatProgressModel",
            "_view_count": null,
            "_view_module": "@jupyter-widgets/controls",
            "_view_module_version": "1.5.0",
            "_view_name": "ProgressView",
            "bar_style": "success",
            "description": "",
            "description_tooltip": null,
            "layout": "IPY_MODEL_04ebc7275561436e83dcdaa0544d437f",
            "max": 28881,
            "min": 0,
            "orientation": "horizontal",
            "style": "IPY_MODEL_cc6a337cc83140c5bde6da25d3636091",
            "value": 28881
          }
        },
        "d8f8171cc219487484548b095e9065c2": {
          "model_module": "@jupyter-widgets/controls",
          "model_name": "HTMLModel",
          "model_module_version": "1.5.0",
          "state": {
            "_dom_classes": [],
            "_model_module": "@jupyter-widgets/controls",
            "_model_module_version": "1.5.0",
            "_model_name": "HTMLModel",
            "_view_count": null,
            "_view_module": "@jupyter-widgets/controls",
            "_view_module_version": "1.5.0",
            "_view_name": "HTMLView",
            "description": "",
            "description_tooltip": null,
            "layout": "IPY_MODEL_324d44fa57ba4081ba56b56e64c51c3e",
            "placeholder": "​",
            "style": "IPY_MODEL_6276569852b443acbf8bd2f240789706",
            "value": " 28881/28881 [00:00&lt;00:00, 1587852.69it/s]"
          }
        },
        "9a928bfb3e264a2fa7b176c7ea20929b": {
          "model_module": "@jupyter-widgets/base",
          "model_name": "LayoutModel",
          "model_module_version": "1.2.0",
          "state": {
            "_model_module": "@jupyter-widgets/base",
            "_model_module_version": "1.2.0",
            "_model_name": "LayoutModel",
            "_view_count": null,
            "_view_module": "@jupyter-widgets/base",
            "_view_module_version": "1.2.0",
            "_view_name": "LayoutView",
            "align_content": null,
            "align_items": null,
            "align_self": null,
            "border": null,
            "bottom": null,
            "display": null,
            "flex": null,
            "flex_flow": null,
            "grid_area": null,
            "grid_auto_columns": null,
            "grid_auto_flow": null,
            "grid_auto_rows": null,
            "grid_column": null,
            "grid_gap": null,
            "grid_row": null,
            "grid_template_areas": null,
            "grid_template_columns": null,
            "grid_template_rows": null,
            "height": null,
            "justify_content": null,
            "justify_items": null,
            "left": null,
            "margin": null,
            "max_height": null,
            "max_width": null,
            "min_height": null,
            "min_width": null,
            "object_fit": null,
            "object_position": null,
            "order": null,
            "overflow": null,
            "overflow_x": null,
            "overflow_y": null,
            "padding": null,
            "right": null,
            "top": null,
            "visibility": null,
            "width": null
          }
        },
        "fe80285ad66440e7b38419ca57a814fd": {
          "model_module": "@jupyter-widgets/base",
          "model_name": "LayoutModel",
          "model_module_version": "1.2.0",
          "state": {
            "_model_module": "@jupyter-widgets/base",
            "_model_module_version": "1.2.0",
            "_model_name": "LayoutModel",
            "_view_count": null,
            "_view_module": "@jupyter-widgets/base",
            "_view_module_version": "1.2.0",
            "_view_name": "LayoutView",
            "align_content": null,
            "align_items": null,
            "align_self": null,
            "border": null,
            "bottom": null,
            "display": null,
            "flex": null,
            "flex_flow": null,
            "grid_area": null,
            "grid_auto_columns": null,
            "grid_auto_flow": null,
            "grid_auto_rows": null,
            "grid_column": null,
            "grid_gap": null,
            "grid_row": null,
            "grid_template_areas": null,
            "grid_template_columns": null,
            "grid_template_rows": null,
            "height": null,
            "justify_content": null,
            "justify_items": null,
            "left": null,
            "margin": null,
            "max_height": null,
            "max_width": null,
            "min_height": null,
            "min_width": null,
            "object_fit": null,
            "object_position": null,
            "order": null,
            "overflow": null,
            "overflow_x": null,
            "overflow_y": null,
            "padding": null,
            "right": null,
            "top": null,
            "visibility": null,
            "width": null
          }
        },
        "03cf2b31c9db4a7ea4b78f553c2cde6e": {
          "model_module": "@jupyter-widgets/controls",
          "model_name": "DescriptionStyleModel",
          "model_module_version": "1.5.0",
          "state": {
            "_model_module": "@jupyter-widgets/controls",
            "_model_module_version": "1.5.0",
            "_model_name": "DescriptionStyleModel",
            "_view_count": null,
            "_view_module": "@jupyter-widgets/base",
            "_view_module_version": "1.2.0",
            "_view_name": "StyleView",
            "description_width": ""
          }
        },
        "04ebc7275561436e83dcdaa0544d437f": {
          "model_module": "@jupyter-widgets/base",
          "model_name": "LayoutModel",
          "model_module_version": "1.2.0",
          "state": {
            "_model_module": "@jupyter-widgets/base",
            "_model_module_version": "1.2.0",
            "_model_name": "LayoutModel",
            "_view_count": null,
            "_view_module": "@jupyter-widgets/base",
            "_view_module_version": "1.2.0",
            "_view_name": "LayoutView",
            "align_content": null,
            "align_items": null,
            "align_self": null,
            "border": null,
            "bottom": null,
            "display": null,
            "flex": null,
            "flex_flow": null,
            "grid_area": null,
            "grid_auto_columns": null,
            "grid_auto_flow": null,
            "grid_auto_rows": null,
            "grid_column": null,
            "grid_gap": null,
            "grid_row": null,
            "grid_template_areas": null,
            "grid_template_columns": null,
            "grid_template_rows": null,
            "height": null,
            "justify_content": null,
            "justify_items": null,
            "left": null,
            "margin": null,
            "max_height": null,
            "max_width": null,
            "min_height": null,
            "min_width": null,
            "object_fit": null,
            "object_position": null,
            "order": null,
            "overflow": null,
            "overflow_x": null,
            "overflow_y": null,
            "padding": null,
            "right": null,
            "top": null,
            "visibility": null,
            "width": null
          }
        },
        "cc6a337cc83140c5bde6da25d3636091": {
          "model_module": "@jupyter-widgets/controls",
          "model_name": "ProgressStyleModel",
          "model_module_version": "1.5.0",
          "state": {
            "_model_module": "@jupyter-widgets/controls",
            "_model_module_version": "1.5.0",
            "_model_name": "ProgressStyleModel",
            "_view_count": null,
            "_view_module": "@jupyter-widgets/base",
            "_view_module_version": "1.2.0",
            "_view_name": "StyleView",
            "bar_color": null,
            "description_width": ""
          }
        },
        "324d44fa57ba4081ba56b56e64c51c3e": {
          "model_module": "@jupyter-widgets/base",
          "model_name": "LayoutModel",
          "model_module_version": "1.2.0",
          "state": {
            "_model_module": "@jupyter-widgets/base",
            "_model_module_version": "1.2.0",
            "_model_name": "LayoutModel",
            "_view_count": null,
            "_view_module": "@jupyter-widgets/base",
            "_view_module_version": "1.2.0",
            "_view_name": "LayoutView",
            "align_content": null,
            "align_items": null,
            "align_self": null,
            "border": null,
            "bottom": null,
            "display": null,
            "flex": null,
            "flex_flow": null,
            "grid_area": null,
            "grid_auto_columns": null,
            "grid_auto_flow": null,
            "grid_auto_rows": null,
            "grid_column": null,
            "grid_gap": null,
            "grid_row": null,
            "grid_template_areas": null,
            "grid_template_columns": null,
            "grid_template_rows": null,
            "height": null,
            "justify_content": null,
            "justify_items": null,
            "left": null,
            "margin": null,
            "max_height": null,
            "max_width": null,
            "min_height": null,
            "min_width": null,
            "object_fit": null,
            "object_position": null,
            "order": null,
            "overflow": null,
            "overflow_x": null,
            "overflow_y": null,
            "padding": null,
            "right": null,
            "top": null,
            "visibility": null,
            "width": null
          }
        },
        "6276569852b443acbf8bd2f240789706": {
          "model_module": "@jupyter-widgets/controls",
          "model_name": "DescriptionStyleModel",
          "model_module_version": "1.5.0",
          "state": {
            "_model_module": "@jupyter-widgets/controls",
            "_model_module_version": "1.5.0",
            "_model_name": "DescriptionStyleModel",
            "_view_count": null,
            "_view_module": "@jupyter-widgets/base",
            "_view_module_version": "1.2.0",
            "_view_name": "StyleView",
            "description_width": ""
          }
        },
        "d554885e1bf741838b0ceb9e87f21508": {
          "model_module": "@jupyter-widgets/controls",
          "model_name": "HBoxModel",
          "model_module_version": "1.5.0",
          "state": {
            "_dom_classes": [],
            "_model_module": "@jupyter-widgets/controls",
            "_model_module_version": "1.5.0",
            "_model_name": "HBoxModel",
            "_view_count": null,
            "_view_module": "@jupyter-widgets/controls",
            "_view_module_version": "1.5.0",
            "_view_name": "HBoxView",
            "box_style": "",
            "children": [
              "IPY_MODEL_fd94928005fb4706aff3bc25ed216baa",
              "IPY_MODEL_f6c19cfa8a50445a9b8c95af0608bbba",
              "IPY_MODEL_ed37d5d389474e8d9a19f5a12540d3ec"
            ],
            "layout": "IPY_MODEL_39787b89434644f0a4d811e6827d4cae"
          }
        },
        "fd94928005fb4706aff3bc25ed216baa": {
          "model_module": "@jupyter-widgets/controls",
          "model_name": "HTMLModel",
          "model_module_version": "1.5.0",
          "state": {
            "_dom_classes": [],
            "_model_module": "@jupyter-widgets/controls",
            "_model_module_version": "1.5.0",
            "_model_name": "HTMLModel",
            "_view_count": null,
            "_view_module": "@jupyter-widgets/controls",
            "_view_module_version": "1.5.0",
            "_view_name": "HTMLView",
            "description": "",
            "description_tooltip": null,
            "layout": "IPY_MODEL_e1cd1db30d1a4a5486f28a49dbbc25d8",
            "placeholder": "​",
            "style": "IPY_MODEL_367951f0ccf847eeb1005c9ea8de7873",
            "value": "100%"
          }
        },
        "f6c19cfa8a50445a9b8c95af0608bbba": {
          "model_module": "@jupyter-widgets/controls",
          "model_name": "FloatProgressModel",
          "model_module_version": "1.5.0",
          "state": {
            "_dom_classes": [],
            "_model_module": "@jupyter-widgets/controls",
            "_model_module_version": "1.5.0",
            "_model_name": "FloatProgressModel",
            "_view_count": null,
            "_view_module": "@jupyter-widgets/controls",
            "_view_module_version": "1.5.0",
            "_view_name": "ProgressView",
            "bar_style": "success",
            "description": "",
            "description_tooltip": null,
            "layout": "IPY_MODEL_f571d2e4b6a2465aa6c254fa2002b6ed",
            "max": 1648877,
            "min": 0,
            "orientation": "horizontal",
            "style": "IPY_MODEL_b2048547b7fd41b18cec8e8af32f1059",
            "value": 1648877
          }
        },
        "ed37d5d389474e8d9a19f5a12540d3ec": {
          "model_module": "@jupyter-widgets/controls",
          "model_name": "HTMLModel",
          "model_module_version": "1.5.0",
          "state": {
            "_dom_classes": [],
            "_model_module": "@jupyter-widgets/controls",
            "_model_module_version": "1.5.0",
            "_model_name": "HTMLModel",
            "_view_count": null,
            "_view_module": "@jupyter-widgets/controls",
            "_view_module_version": "1.5.0",
            "_view_name": "HTMLView",
            "description": "",
            "description_tooltip": null,
            "layout": "IPY_MODEL_ea33cc80f34b411ebc5de88f21d91908",
            "placeholder": "​",
            "style": "IPY_MODEL_8278097802a84073b44748461f37f2a6",
            "value": " 1648877/1648877 [00:00&lt;00:00, 53783334.34it/s]"
          }
        },
        "39787b89434644f0a4d811e6827d4cae": {
          "model_module": "@jupyter-widgets/base",
          "model_name": "LayoutModel",
          "model_module_version": "1.2.0",
          "state": {
            "_model_module": "@jupyter-widgets/base",
            "_model_module_version": "1.2.0",
            "_model_name": "LayoutModel",
            "_view_count": null,
            "_view_module": "@jupyter-widgets/base",
            "_view_module_version": "1.2.0",
            "_view_name": "LayoutView",
            "align_content": null,
            "align_items": null,
            "align_self": null,
            "border": null,
            "bottom": null,
            "display": null,
            "flex": null,
            "flex_flow": null,
            "grid_area": null,
            "grid_auto_columns": null,
            "grid_auto_flow": null,
            "grid_auto_rows": null,
            "grid_column": null,
            "grid_gap": null,
            "grid_row": null,
            "grid_template_areas": null,
            "grid_template_columns": null,
            "grid_template_rows": null,
            "height": null,
            "justify_content": null,
            "justify_items": null,
            "left": null,
            "margin": null,
            "max_height": null,
            "max_width": null,
            "min_height": null,
            "min_width": null,
            "object_fit": null,
            "object_position": null,
            "order": null,
            "overflow": null,
            "overflow_x": null,
            "overflow_y": null,
            "padding": null,
            "right": null,
            "top": null,
            "visibility": null,
            "width": null
          }
        },
        "e1cd1db30d1a4a5486f28a49dbbc25d8": {
          "model_module": "@jupyter-widgets/base",
          "model_name": "LayoutModel",
          "model_module_version": "1.2.0",
          "state": {
            "_model_module": "@jupyter-widgets/base",
            "_model_module_version": "1.2.0",
            "_model_name": "LayoutModel",
            "_view_count": null,
            "_view_module": "@jupyter-widgets/base",
            "_view_module_version": "1.2.0",
            "_view_name": "LayoutView",
            "align_content": null,
            "align_items": null,
            "align_self": null,
            "border": null,
            "bottom": null,
            "display": null,
            "flex": null,
            "flex_flow": null,
            "grid_area": null,
            "grid_auto_columns": null,
            "grid_auto_flow": null,
            "grid_auto_rows": null,
            "grid_column": null,
            "grid_gap": null,
            "grid_row": null,
            "grid_template_areas": null,
            "grid_template_columns": null,
            "grid_template_rows": null,
            "height": null,
            "justify_content": null,
            "justify_items": null,
            "left": null,
            "margin": null,
            "max_height": null,
            "max_width": null,
            "min_height": null,
            "min_width": null,
            "object_fit": null,
            "object_position": null,
            "order": null,
            "overflow": null,
            "overflow_x": null,
            "overflow_y": null,
            "padding": null,
            "right": null,
            "top": null,
            "visibility": null,
            "width": null
          }
        },
        "367951f0ccf847eeb1005c9ea8de7873": {
          "model_module": "@jupyter-widgets/controls",
          "model_name": "DescriptionStyleModel",
          "model_module_version": "1.5.0",
          "state": {
            "_model_module": "@jupyter-widgets/controls",
            "_model_module_version": "1.5.0",
            "_model_name": "DescriptionStyleModel",
            "_view_count": null,
            "_view_module": "@jupyter-widgets/base",
            "_view_module_version": "1.2.0",
            "_view_name": "StyleView",
            "description_width": ""
          }
        },
        "f571d2e4b6a2465aa6c254fa2002b6ed": {
          "model_module": "@jupyter-widgets/base",
          "model_name": "LayoutModel",
          "model_module_version": "1.2.0",
          "state": {
            "_model_module": "@jupyter-widgets/base",
            "_model_module_version": "1.2.0",
            "_model_name": "LayoutModel",
            "_view_count": null,
            "_view_module": "@jupyter-widgets/base",
            "_view_module_version": "1.2.0",
            "_view_name": "LayoutView",
            "align_content": null,
            "align_items": null,
            "align_self": null,
            "border": null,
            "bottom": null,
            "display": null,
            "flex": null,
            "flex_flow": null,
            "grid_area": null,
            "grid_auto_columns": null,
            "grid_auto_flow": null,
            "grid_auto_rows": null,
            "grid_column": null,
            "grid_gap": null,
            "grid_row": null,
            "grid_template_areas": null,
            "grid_template_columns": null,
            "grid_template_rows": null,
            "height": null,
            "justify_content": null,
            "justify_items": null,
            "left": null,
            "margin": null,
            "max_height": null,
            "max_width": null,
            "min_height": null,
            "min_width": null,
            "object_fit": null,
            "object_position": null,
            "order": null,
            "overflow": null,
            "overflow_x": null,
            "overflow_y": null,
            "padding": null,
            "right": null,
            "top": null,
            "visibility": null,
            "width": null
          }
        },
        "b2048547b7fd41b18cec8e8af32f1059": {
          "model_module": "@jupyter-widgets/controls",
          "model_name": "ProgressStyleModel",
          "model_module_version": "1.5.0",
          "state": {
            "_model_module": "@jupyter-widgets/controls",
            "_model_module_version": "1.5.0",
            "_model_name": "ProgressStyleModel",
            "_view_count": null,
            "_view_module": "@jupyter-widgets/base",
            "_view_module_version": "1.2.0",
            "_view_name": "StyleView",
            "bar_color": null,
            "description_width": ""
          }
        },
        "ea33cc80f34b411ebc5de88f21d91908": {
          "model_module": "@jupyter-widgets/base",
          "model_name": "LayoutModel",
          "model_module_version": "1.2.0",
          "state": {
            "_model_module": "@jupyter-widgets/base",
            "_model_module_version": "1.2.0",
            "_model_name": "LayoutModel",
            "_view_count": null,
            "_view_module": "@jupyter-widgets/base",
            "_view_module_version": "1.2.0",
            "_view_name": "LayoutView",
            "align_content": null,
            "align_items": null,
            "align_self": null,
            "border": null,
            "bottom": null,
            "display": null,
            "flex": null,
            "flex_flow": null,
            "grid_area": null,
            "grid_auto_columns": null,
            "grid_auto_flow": null,
            "grid_auto_rows": null,
            "grid_column": null,
            "grid_gap": null,
            "grid_row": null,
            "grid_template_areas": null,
            "grid_template_columns": null,
            "grid_template_rows": null,
            "height": null,
            "justify_content": null,
            "justify_items": null,
            "left": null,
            "margin": null,
            "max_height": null,
            "max_width": null,
            "min_height": null,
            "min_width": null,
            "object_fit": null,
            "object_position": null,
            "order": null,
            "overflow": null,
            "overflow_x": null,
            "overflow_y": null,
            "padding": null,
            "right": null,
            "top": null,
            "visibility": null,
            "width": null
          }
        },
        "8278097802a84073b44748461f37f2a6": {
          "model_module": "@jupyter-widgets/controls",
          "model_name": "DescriptionStyleModel",
          "model_module_version": "1.5.0",
          "state": {
            "_model_module": "@jupyter-widgets/controls",
            "_model_module_version": "1.5.0",
            "_model_name": "DescriptionStyleModel",
            "_view_count": null,
            "_view_module": "@jupyter-widgets/base",
            "_view_module_version": "1.2.0",
            "_view_name": "StyleView",
            "description_width": ""
          }
        },
        "9f56c5e6923243b989a77b11b103ccaa": {
          "model_module": "@jupyter-widgets/controls",
          "model_name": "HBoxModel",
          "model_module_version": "1.5.0",
          "state": {
            "_dom_classes": [],
            "_model_module": "@jupyter-widgets/controls",
            "_model_module_version": "1.5.0",
            "_model_name": "HBoxModel",
            "_view_count": null,
            "_view_module": "@jupyter-widgets/controls",
            "_view_module_version": "1.5.0",
            "_view_name": "HBoxView",
            "box_style": "",
            "children": [
              "IPY_MODEL_b22a4150aa8a44e1bee90dbd5e2372d2",
              "IPY_MODEL_f1bc58b9c9654334ada6f56e04386f2d",
              "IPY_MODEL_dcbf3b70d8374c0e86ffb8a7f199992e"
            ],
            "layout": "IPY_MODEL_55b2078e5fe24fc3b0d0f273985d2973"
          }
        },
        "b22a4150aa8a44e1bee90dbd5e2372d2": {
          "model_module": "@jupyter-widgets/controls",
          "model_name": "HTMLModel",
          "model_module_version": "1.5.0",
          "state": {
            "_dom_classes": [],
            "_model_module": "@jupyter-widgets/controls",
            "_model_module_version": "1.5.0",
            "_model_name": "HTMLModel",
            "_view_count": null,
            "_view_module": "@jupyter-widgets/controls",
            "_view_module_version": "1.5.0",
            "_view_name": "HTMLView",
            "description": "",
            "description_tooltip": null,
            "layout": "IPY_MODEL_807cbfb95bd74efc947e85be83188122",
            "placeholder": "​",
            "style": "IPY_MODEL_493c163bae6e4555ad0269e65cfb0df1",
            "value": "100%"
          }
        },
        "f1bc58b9c9654334ada6f56e04386f2d": {
          "model_module": "@jupyter-widgets/controls",
          "model_name": "FloatProgressModel",
          "model_module_version": "1.5.0",
          "state": {
            "_dom_classes": [],
            "_model_module": "@jupyter-widgets/controls",
            "_model_module_version": "1.5.0",
            "_model_name": "FloatProgressModel",
            "_view_count": null,
            "_view_module": "@jupyter-widgets/controls",
            "_view_module_version": "1.5.0",
            "_view_name": "ProgressView",
            "bar_style": "success",
            "description": "",
            "description_tooltip": null,
            "layout": "IPY_MODEL_7047963b1c654332a9bf1af741e99ffb",
            "max": 4542,
            "min": 0,
            "orientation": "horizontal",
            "style": "IPY_MODEL_2b1dab161a8e4c68a56ef13cdf814be0",
            "value": 4542
          }
        },
        "dcbf3b70d8374c0e86ffb8a7f199992e": {
          "model_module": "@jupyter-widgets/controls",
          "model_name": "HTMLModel",
          "model_module_version": "1.5.0",
          "state": {
            "_dom_classes": [],
            "_model_module": "@jupyter-widgets/controls",
            "_model_module_version": "1.5.0",
            "_model_name": "HTMLModel",
            "_view_count": null,
            "_view_module": "@jupyter-widgets/controls",
            "_view_module_version": "1.5.0",
            "_view_name": "HTMLView",
            "description": "",
            "description_tooltip": null,
            "layout": "IPY_MODEL_698ceec15fcb40dc9f334a16cbde7d55",
            "placeholder": "​",
            "style": "IPY_MODEL_e754ac330e6941469177ada46fc9ee7a",
            "value": " 4542/4542 [00:00&lt;00:00, 255945.41it/s]"
          }
        },
        "55b2078e5fe24fc3b0d0f273985d2973": {
          "model_module": "@jupyter-widgets/base",
          "model_name": "LayoutModel",
          "model_module_version": "1.2.0",
          "state": {
            "_model_module": "@jupyter-widgets/base",
            "_model_module_version": "1.2.0",
            "_model_name": "LayoutModel",
            "_view_count": null,
            "_view_module": "@jupyter-widgets/base",
            "_view_module_version": "1.2.0",
            "_view_name": "LayoutView",
            "align_content": null,
            "align_items": null,
            "align_self": null,
            "border": null,
            "bottom": null,
            "display": null,
            "flex": null,
            "flex_flow": null,
            "grid_area": null,
            "grid_auto_columns": null,
            "grid_auto_flow": null,
            "grid_auto_rows": null,
            "grid_column": null,
            "grid_gap": null,
            "grid_row": null,
            "grid_template_areas": null,
            "grid_template_columns": null,
            "grid_template_rows": null,
            "height": null,
            "justify_content": null,
            "justify_items": null,
            "left": null,
            "margin": null,
            "max_height": null,
            "max_width": null,
            "min_height": null,
            "min_width": null,
            "object_fit": null,
            "object_position": null,
            "order": null,
            "overflow": null,
            "overflow_x": null,
            "overflow_y": null,
            "padding": null,
            "right": null,
            "top": null,
            "visibility": null,
            "width": null
          }
        },
        "807cbfb95bd74efc947e85be83188122": {
          "model_module": "@jupyter-widgets/base",
          "model_name": "LayoutModel",
          "model_module_version": "1.2.0",
          "state": {
            "_model_module": "@jupyter-widgets/base",
            "_model_module_version": "1.2.0",
            "_model_name": "LayoutModel",
            "_view_count": null,
            "_view_module": "@jupyter-widgets/base",
            "_view_module_version": "1.2.0",
            "_view_name": "LayoutView",
            "align_content": null,
            "align_items": null,
            "align_self": null,
            "border": null,
            "bottom": null,
            "display": null,
            "flex": null,
            "flex_flow": null,
            "grid_area": null,
            "grid_auto_columns": null,
            "grid_auto_flow": null,
            "grid_auto_rows": null,
            "grid_column": null,
            "grid_gap": null,
            "grid_row": null,
            "grid_template_areas": null,
            "grid_template_columns": null,
            "grid_template_rows": null,
            "height": null,
            "justify_content": null,
            "justify_items": null,
            "left": null,
            "margin": null,
            "max_height": null,
            "max_width": null,
            "min_height": null,
            "min_width": null,
            "object_fit": null,
            "object_position": null,
            "order": null,
            "overflow": null,
            "overflow_x": null,
            "overflow_y": null,
            "padding": null,
            "right": null,
            "top": null,
            "visibility": null,
            "width": null
          }
        },
        "493c163bae6e4555ad0269e65cfb0df1": {
          "model_module": "@jupyter-widgets/controls",
          "model_name": "DescriptionStyleModel",
          "model_module_version": "1.5.0",
          "state": {
            "_model_module": "@jupyter-widgets/controls",
            "_model_module_version": "1.5.0",
            "_model_name": "DescriptionStyleModel",
            "_view_count": null,
            "_view_module": "@jupyter-widgets/base",
            "_view_module_version": "1.2.0",
            "_view_name": "StyleView",
            "description_width": ""
          }
        },
        "7047963b1c654332a9bf1af741e99ffb": {
          "model_module": "@jupyter-widgets/base",
          "model_name": "LayoutModel",
          "model_module_version": "1.2.0",
          "state": {
            "_model_module": "@jupyter-widgets/base",
            "_model_module_version": "1.2.0",
            "_model_name": "LayoutModel",
            "_view_count": null,
            "_view_module": "@jupyter-widgets/base",
            "_view_module_version": "1.2.0",
            "_view_name": "LayoutView",
            "align_content": null,
            "align_items": null,
            "align_self": null,
            "border": null,
            "bottom": null,
            "display": null,
            "flex": null,
            "flex_flow": null,
            "grid_area": null,
            "grid_auto_columns": null,
            "grid_auto_flow": null,
            "grid_auto_rows": null,
            "grid_column": null,
            "grid_gap": null,
            "grid_row": null,
            "grid_template_areas": null,
            "grid_template_columns": null,
            "grid_template_rows": null,
            "height": null,
            "justify_content": null,
            "justify_items": null,
            "left": null,
            "margin": null,
            "max_height": null,
            "max_width": null,
            "min_height": null,
            "min_width": null,
            "object_fit": null,
            "object_position": null,
            "order": null,
            "overflow": null,
            "overflow_x": null,
            "overflow_y": null,
            "padding": null,
            "right": null,
            "top": null,
            "visibility": null,
            "width": null
          }
        },
        "2b1dab161a8e4c68a56ef13cdf814be0": {
          "model_module": "@jupyter-widgets/controls",
          "model_name": "ProgressStyleModel",
          "model_module_version": "1.5.0",
          "state": {
            "_model_module": "@jupyter-widgets/controls",
            "_model_module_version": "1.5.0",
            "_model_name": "ProgressStyleModel",
            "_view_count": null,
            "_view_module": "@jupyter-widgets/base",
            "_view_module_version": "1.2.0",
            "_view_name": "StyleView",
            "bar_color": null,
            "description_width": ""
          }
        },
        "698ceec15fcb40dc9f334a16cbde7d55": {
          "model_module": "@jupyter-widgets/base",
          "model_name": "LayoutModel",
          "model_module_version": "1.2.0",
          "state": {
            "_model_module": "@jupyter-widgets/base",
            "_model_module_version": "1.2.0",
            "_model_name": "LayoutModel",
            "_view_count": null,
            "_view_module": "@jupyter-widgets/base",
            "_view_module_version": "1.2.0",
            "_view_name": "LayoutView",
            "align_content": null,
            "align_items": null,
            "align_self": null,
            "border": null,
            "bottom": null,
            "display": null,
            "flex": null,
            "flex_flow": null,
            "grid_area": null,
            "grid_auto_columns": null,
            "grid_auto_flow": null,
            "grid_auto_rows": null,
            "grid_column": null,
            "grid_gap": null,
            "grid_row": null,
            "grid_template_areas": null,
            "grid_template_columns": null,
            "grid_template_rows": null,
            "height": null,
            "justify_content": null,
            "justify_items": null,
            "left": null,
            "margin": null,
            "max_height": null,
            "max_width": null,
            "min_height": null,
            "min_width": null,
            "object_fit": null,
            "object_position": null,
            "order": null,
            "overflow": null,
            "overflow_x": null,
            "overflow_y": null,
            "padding": null,
            "right": null,
            "top": null,
            "visibility": null,
            "width": null
          }
        },
        "e754ac330e6941469177ada46fc9ee7a": {
          "model_module": "@jupyter-widgets/controls",
          "model_name": "DescriptionStyleModel",
          "model_module_version": "1.5.0",
          "state": {
            "_model_module": "@jupyter-widgets/controls",
            "_model_module_version": "1.5.0",
            "_model_name": "DescriptionStyleModel",
            "_view_count": null,
            "_view_module": "@jupyter-widgets/base",
            "_view_module_version": "1.2.0",
            "_view_name": "StyleView",
            "description_width": ""
          }
        }
      }
    }
  },
  "cells": [
    {
      "cell_type": "code",
      "source": [
        "from google.colab import drive\n",
        "drive.mount('/content/gdrive')"
      ],
      "metadata": {
        "colab": {
          "base_uri": "https://localhost:8080/"
        },
        "id": "aTkGp8UgO_Jr",
        "outputId": "d52f3509-40bf-485a-d1c7-acf96c5a60b3"
      },
      "execution_count": null,
      "outputs": [
        {
          "output_type": "stream",
          "name": "stdout",
          "text": [
            "Mounted at /content/gdrive\n"
          ]
        }
      ]
    },
    {
      "cell_type": "code",
      "source": [
        "!pwd"
      ],
      "metadata": {
        "colab": {
          "base_uri": "https://localhost:8080/"
        },
        "id": "RReTkEy-ZE_q",
        "outputId": "61da6a7f-8d1d-49db-b2b7-72ef0bc02896"
      },
      "execution_count": null,
      "outputs": [
        {
          "output_type": "stream",
          "name": "stdout",
          "text": [
            "/content\n"
          ]
        }
      ]
    },
    {
      "cell_type": "code",
      "source": [
        "import torch\n",
        "import torch.nn as nn\n",
        "import torch.nn.functional as F\n",
        "import torch.optim as optim\n",
        "import torch.utils.data as data\n",
        "\n",
        "import torchvision.transforms as transforms\n",
        "import torchvision.datasets as datasets\n",
        "from torch.utils.data import Dataset, Subset, DataLoader, random_split\n",
        "from tqdm.notebook import tqdm, trange\n",
        "from sklearn import decomposition\n",
        "from sklearn import manifold\n",
        "from sklearn.metrics import confusion_matrix\n",
        "from sklearn.metrics import ConfusionMatrixDisplay\n",
        "from tqdm.notebook import tqdm, trange\n",
        "import matplotlib.pyplot as plt\n",
        "import numpy as np\n",
        "from torchsummary import summary\n",
        "#from dataset import Datasets\n",
        "\n",
        "import copy\n",
        "import random\n",
        "import time\n",
        "import os, argparse\n",
        "import math\n",
        "\n",
        "import torchvision.transforms as transforms\n",
        "from torchvision.utils import save_image\n",
        "\n",
        "from torch.utils.data import DataLoader\n",
        "from torchvision import datasets\n",
        "from torch.autograd import Variable\n"
      ],
      "metadata": {
        "id": "VV3XW-1PPZcz"
      },
      "execution_count": null,
      "outputs": []
    },
    {
      "cell_type": "code",
      "source": [
        "os.chdir('/content/gdrive/My Drive/Colab Notebooks/')\n",
        "!pwd"
      ],
      "metadata": {
        "colab": {
          "base_uri": "https://localhost:8080/"
        },
        "id": "2vdLFIaF4h0j",
        "outputId": "77a3efb9-a905-4849-fdab-a661a32f61a0"
      },
      "execution_count": null,
      "outputs": [
        {
          "output_type": "stream",
          "name": "stdout",
          "text": [
            "/content/gdrive/My Drive/Colab Notebooks\n"
          ]
        }
      ]
    },
    {
      "cell_type": "code",
      "source": [
        "os.makedirs(\"models_cnn\", exist_ok=True)\n",
        "\n",
        "opt = {\n",
        "    'n_epochs' : 100, # number of epochs of training\n",
        "    'batch_size' : 64, # size of the batches\n",
        "    'lr' : 0.0002, # adam: learning rate\n",
        "    'b1' : 0.5, # adam: decay of first order momentum of gradient\n",
        "    'b2': 0.999, # adam: decay of first order momentum of gradient\n",
        "    'n_cpu': 8, # number of cpu threads to use during batch generation\n",
        "    'latent_dim': 100, # dimensionality of the latent space\n",
        "    'img_size': 32, # size of each image dimension\n",
        "    'channels': 1, # number of image channels\n",
        "    'sample_interval': 400 # interval between image sampling\n",
        "}\n",
        "print(opt)\n",
        "!ls"
      ],
      "metadata": {
        "colab": {
          "base_uri": "https://localhost:8080/"
        },
        "id": "elbqiI_2WCvo",
        "outputId": "8b4f57ad-1d04-4b93-b40c-676b5c74fdcc"
      },
      "execution_count": null,
      "outputs": [
        {
          "output_type": "stream",
          "name": "stdout",
          "text": [
            "{'n_epochs': 100, 'batch_size': 64, 'lr': 0.0002, 'b1': 0.5, 'b2': 0.999, 'n_cpu': 8, 'latent_dim': 100, 'img_size': 32, 'channels': 1, 'sample_interval': 400}\n",
            "'assignment cse598'\n",
            " Assignment_final_128_0001_20.ipynb\n",
            " Assignment_final_128_001_20.ipynb\n",
            " Assignment_final_64_0001_25.ipynb\n",
            " Assignment_final_64_0001_30.ipynb\n",
            " Assignment_final_64_001_20.ipynb\n",
            " Assignment_final_64_001_25.ipynb\n",
            "'Copy of correct Assignment1.ipynb'\n",
            "'Copy of Dataset2_AkhilKumarGudipoodi_Code_Model_Training.ipynb'\n",
            "'Copy of Dataset_Generation_p7_T1.ipynb'\n",
            "'Copy of FSL_Project_2.ipynb'\n",
            "'Copy of GAN.ipynb'\n",
            "'Copy of merge.ipynb'\n",
            "'Copy of pytorch_tutorial.ipynb'\n",
            "'Copy of skonda15_cse569_fsl_project.ipynb'\n",
            "'Copy of train_t5_(1).ipynb'\n",
            "'correct Assignment1.ipynb'\n",
            " CSE598\n",
            " CSE598Models\n",
            "'Dataset2_AkhilKumarGudipoodi_Code_Model_Training (1).ipynb'\n",
            " Dataset2_AkhilKumarGudipoodi_Code_Model_Training.ipynb\n",
            " Dataset2_AkhilKumarGudipoodi_Patient_Test.csv\n",
            " Dataset2_AkhilKumarGudipoodi_Patient_Train.csv\n",
            " Dataset2_SaicharanPapani_Code_Model_Training.ipynb\n",
            " doctor_test_english.csv\n",
            " doctor_train_english.csv\n",
            " doctor_train_modified.csv\n",
            " doctor_valid_modified.csv\n",
            " final_Assignment_final_64_001_20.ipynb\n",
            " FSL_Project_2-1.ipynb\n",
            "'FSL_Project_2 (3).ipynb'\n",
            "'FSL Project 2.ipynb'\n",
            " FSL_Project_2.ipynb\n",
            "'FSL Projects'\n",
            "'GAN (1).ipynb'\n",
            " GAN.ipynb\n",
            "'merge Latest.ipynb'\n",
            " models_cnn\n",
            " MT_Tool_Chinese_English_Test.ipynb\n",
            " new_run\n",
            " new_run_10_odd\n",
            " NLP-Project\n",
            " NLP-Project.ipynb\n",
            " NLP_Project_model_train_VS.ipynb\n",
            " patient_test_predictions.csv\n",
            " patient_test_predictions.tsv\n",
            " Phase2_DataSetCreation.ipynb\n",
            "'project t.ipynb'\n",
            "'Saicharan_FSL_PROJECT_PART1 (1).ipynb'\n",
            " Saicharan_FSL_PROJECT_PART1.ipynb\n",
            " Saicharan_NLP_DatasetCreation.ipynb\n",
            "'SAICHARAN_NLP_DatasetCreation_Type1_(2) (1).ipynb'\n",
            " Saicharan_papani_HW1_BERT_MLP-1.ipynb\n",
            " Saicharan_papani_HW1_BERT_MLP.ipynb\n",
            " skonda15_cse569_fsl_project.ipynb\n",
            " t5_boolq\n",
            " t5-small-config.json\n",
            "'train_t5_(1).ipynb'\n",
            " Untitled\n",
            " Untitled0.ipynb\n",
            "'Untitled (1)'\n",
            " Untitled1.ipynb\n",
            " Untitled2.ipynb\n"
          ]
        }
      ]
    },
    {
      "cell_type": "code",
      "source": [
        "cuda = True if torch.cuda.is_available() else False"
      ],
      "metadata": {
        "id": "ox0suUpyWWE2"
      },
      "execution_count": null,
      "outputs": []
    },
    {
      "cell_type": "markdown",
      "source": [
        "## **CNN Model and function definations**"
      ],
      "metadata": {
        "id": "577_554KayYC"
      }
    },
    {
      "cell_type": "code",
      "source": [
        "class MnistCnn(nn.Module):\n",
        "    def __init__(self,):\n",
        "        super(MnistCnn,self).__init__()\n",
        "\n",
        "        self.conv = nn.Sequential(\n",
        "\n",
        "            nn.Conv2d(in_channels = 1,out_channels = 64, kernel_size = 5, stride = 1),\n",
        "            nn.ReLU(),\n",
        "            nn.Conv2d(in_channels = 64,out_channels = 64, kernel_size = 5, stride = 2),\n",
        "            nn.ReLU(),\n",
        "            nn.Dropout(p=0.25)\n",
        "\n",
        "        )\n",
        "\n",
        "        self.dense = nn.Sequential(\n",
        "            nn.Linear(6400,128),\n",
        "            nn.ReLU(),\n",
        "            nn.Dropout(0.5),\n",
        "            nn.Linear(128,10)\n",
        "        )\n",
        "\n",
        "    def forward(self,x):\n",
        "        # x= input tensor \n",
        "        output = self.conv(x)\n",
        "        output = output.view(output.shape[0],-1)\n",
        "        output = self.dense(output)\n",
        "        # output is now a tensor of shape (N,10) this is pre-softmax logits of N images\n",
        "        soft = nn.Softmax(dim=1)\n",
        "        output = soft(output)\n",
        "        return output "
      ],
      "metadata": {
        "id": "fEdrk4Lj12cp"
      },
      "execution_count": null,
      "outputs": []
    },
    {
      "cell_type": "code",
      "source": [
        "total_epoch = 100\n",
        "batch_size = 50 \n",
        "valid_size = 10000"
      ],
      "metadata": {
        "id": "o-WGpSSY5UGT"
      },
      "execution_count": null,
      "outputs": []
    },
    {
      "cell_type": "code",
      "source": [
        "model = MnistCnn()"
      ],
      "metadata": {
        "id": "YWqR9UNw5ZCs"
      },
      "execution_count": null,
      "outputs": []
    },
    {
      "cell_type": "code",
      "source": [
        "criterion = nn.CrossEntropyLoss()\n",
        "optimizer = optim.SGD(model.parameters(), lr=0.001, momentum=0.9)\n",
        "\n",
        "device = torch.device(\"cuda:0\" if torch.cuda.is_available() else \"cpu\")"
      ],
      "metadata": {
        "id": "bw6AacJV5fE5"
      },
      "execution_count": null,
      "outputs": []
    },
    {
      "cell_type": "code",
      "source": [
        "summary(model, input_size = (1,28,28), device = 'cpu')"
      ],
      "metadata": {
        "colab": {
          "base_uri": "https://localhost:8080/"
        },
        "id": "NKp3AYoz5fNf",
        "outputId": "f93f0132-0738-47b9-edcc-f8f0fa8ba9db"
      },
      "execution_count": null,
      "outputs": [
        {
          "output_type": "stream",
          "name": "stdout",
          "text": [
            "----------------------------------------------------------------\n",
            "        Layer (type)               Output Shape         Param #\n",
            "================================================================\n",
            "            Conv2d-1           [-1, 64, 24, 24]           1,664\n",
            "              ReLU-2           [-1, 64, 24, 24]               0\n",
            "            Conv2d-3           [-1, 64, 10, 10]         102,464\n",
            "              ReLU-4           [-1, 64, 10, 10]               0\n",
            "           Dropout-5           [-1, 64, 10, 10]               0\n",
            "            Linear-6                  [-1, 128]         819,328\n",
            "              ReLU-7                  [-1, 128]               0\n",
            "           Dropout-8                  [-1, 128]               0\n",
            "            Linear-9                   [-1, 10]           1,290\n",
            "================================================================\n",
            "Total params: 924,746\n",
            "Trainable params: 924,746\n",
            "Non-trainable params: 0\n",
            "----------------------------------------------------------------\n",
            "Input size (MB): 0.00\n",
            "Forward/backward pass size (MB): 0.71\n",
            "Params size (MB): 3.53\n",
            "Estimated Total Size (MB): 4.24\n",
            "----------------------------------------------------------------\n"
          ]
        }
      ]
    },
    {
      "cell_type": "code",
      "source": [
        "#moving the model to GPU\n",
        "model = model.to(device)"
      ],
      "metadata": {
        "id": "laB3Ih_v55VK"
      },
      "execution_count": null,
      "outputs": []
    },
    {
      "cell_type": "code",
      "source": [
        "model_folder = os.path.abspath('./models_cnn')\n",
        "if not os.path.exists(model_folder):\n",
        "    os.mkdir(model_folder)\n",
        "model_path = os.path.join(model_folder, 'mnist_classifier.pth')"
      ],
      "metadata": {
        "id": "C8Yd9bDi5_Y4"
      },
      "execution_count": null,
      "outputs": []
    },
    {
      "cell_type": "code",
      "source": [
        "transformation = transforms.Compose([\n",
        "    transforms.RandomCrop(28),\n",
        "    transforms.RandomHorizontalFlip(),\n",
        "    transforms.ToTensor(),\n",
        "    transforms.Normalize((0.5), (0.5)),\n",
        "])\n",
        "\n",
        "root = '/content/gdrive/My Drive/Colab Notebooks/'\n",
        "if not os.path.exists(root):\n",
        "    os.mkdir(root)\n",
        "\n",
        "trans = transforms.Compose([transforms.ToTensor(), transforms.Normalize((0.5,), (1.0,))])\n",
        "# if not exist, download mnist dataset\n",
        "train_set = datasets.MNIST(root=root, train=True, transform=trans, download=True)\n",
        "test_set = datasets.MNIST(root=root, train=False, transform=trans, download=True)\n",
        "val_set = datasets.MNIST(root=root, train=False, transform=trans, download=True)\n",
        "\n",
        "train_loader = torch.utils.data.DataLoader(\n",
        "                 dataset=train_set,\n",
        "                 batch_size=batch_size,\n",
        "                 shuffle=True)\n",
        "test_loader = torch.utils.data.DataLoader(\n",
        "                dataset=test_set,\n",
        "                batch_size=batch_size,\n",
        "                shuffle=False)\n",
        "\n",
        "val_loader = torch.utils.data.DataLoader(\n",
        "                dataset=val_set,\n",
        "                batch_size=batch_size,\n",
        "                shuffle=False)\n",
        "\n",
        "#mnist = datasets(\"mnist\",transformation,batch_size,valid_size)\n",
        "#trainloader,val_loader = mnist.load_train()"
      ],
      "metadata": {
        "id": "1wSdy0EP6Pj0",
        "colab": {
          "base_uri": "https://localhost:8080/",
          "height": 431,
          "referenced_widgets": [
            "56af52f97d284c1287065e3ef62469a9",
            "e0f267a175aa4058b38016cf611cf2d1",
            "a2222062965a40579175d4bd41773e26",
            "3dfdfae662b44fb8bcec4d8d30d6111c",
            "5399c457f0b04994b8e8071efdc7f676",
            "99a5ac5c446548fa8433dc4fd4fe30ee",
            "1e13b0b4392d4265a7564d71f3bc5114",
            "849ce09316164808afa968a253311386",
            "1144c96a9cd248098af9025e2432b7b4",
            "afb6d963c8744d1baf8efddb75718437",
            "63a30a040225495bb7688c3c01a9593a",
            "e2aef4996e8f4de994a48f7fd74dfa0c",
            "4715252df2a641e79883e10dcf3c8c71",
            "1a462ba9fb69444cb8121b88fb7b909e",
            "d8f8171cc219487484548b095e9065c2",
            "9a928bfb3e264a2fa7b176c7ea20929b",
            "fe80285ad66440e7b38419ca57a814fd",
            "03cf2b31c9db4a7ea4b78f553c2cde6e",
            "04ebc7275561436e83dcdaa0544d437f",
            "cc6a337cc83140c5bde6da25d3636091",
            "324d44fa57ba4081ba56b56e64c51c3e",
            "6276569852b443acbf8bd2f240789706",
            "d554885e1bf741838b0ceb9e87f21508",
            "fd94928005fb4706aff3bc25ed216baa",
            "f6c19cfa8a50445a9b8c95af0608bbba",
            "ed37d5d389474e8d9a19f5a12540d3ec",
            "39787b89434644f0a4d811e6827d4cae",
            "e1cd1db30d1a4a5486f28a49dbbc25d8",
            "367951f0ccf847eeb1005c9ea8de7873",
            "f571d2e4b6a2465aa6c254fa2002b6ed",
            "b2048547b7fd41b18cec8e8af32f1059",
            "ea33cc80f34b411ebc5de88f21d91908",
            "8278097802a84073b44748461f37f2a6",
            "9f56c5e6923243b989a77b11b103ccaa",
            "b22a4150aa8a44e1bee90dbd5e2372d2",
            "f1bc58b9c9654334ada6f56e04386f2d",
            "dcbf3b70d8374c0e86ffb8a7f199992e",
            "55b2078e5fe24fc3b0d0f273985d2973",
            "807cbfb95bd74efc947e85be83188122",
            "493c163bae6e4555ad0269e65cfb0df1",
            "7047963b1c654332a9bf1af741e99ffb",
            "2b1dab161a8e4c68a56ef13cdf814be0",
            "698ceec15fcb40dc9f334a16cbde7d55",
            "e754ac330e6941469177ada46fc9ee7a"
          ]
        },
        "outputId": "0f8ee746-9d51-4cb5-d933-96c404935b89"
      },
      "execution_count": null,
      "outputs": [
        {
          "output_type": "stream",
          "name": "stdout",
          "text": [
            "Downloading http://yann.lecun.com/exdb/mnist/train-images-idx3-ubyte.gz\n",
            "Downloading http://yann.lecun.com/exdb/mnist/train-images-idx3-ubyte.gz to /content/gdrive/My Drive/Colab Notebooks/MNIST/raw/train-images-idx3-ubyte.gz\n"
          ]
        },
        {
          "output_type": "display_data",
          "data": {
            "text/plain": [
              "  0%|          | 0/9912422 [00:00<?, ?it/s]"
            ],
            "application/vnd.jupyter.widget-view+json": {
              "version_major": 2,
              "version_minor": 0,
              "model_id": "56af52f97d284c1287065e3ef62469a9"
            }
          },
          "metadata": {}
        },
        {
          "output_type": "stream",
          "name": "stdout",
          "text": [
            "Extracting /content/gdrive/My Drive/Colab Notebooks/MNIST/raw/train-images-idx3-ubyte.gz to /content/gdrive/My Drive/Colab Notebooks/MNIST/raw\n",
            "\n",
            "Downloading http://yann.lecun.com/exdb/mnist/train-labels-idx1-ubyte.gz\n",
            "Downloading http://yann.lecun.com/exdb/mnist/train-labels-idx1-ubyte.gz to /content/gdrive/My Drive/Colab Notebooks/MNIST/raw/train-labels-idx1-ubyte.gz\n"
          ]
        },
        {
          "output_type": "display_data",
          "data": {
            "text/plain": [
              "  0%|          | 0/28881 [00:00<?, ?it/s]"
            ],
            "application/vnd.jupyter.widget-view+json": {
              "version_major": 2,
              "version_minor": 0,
              "model_id": "e2aef4996e8f4de994a48f7fd74dfa0c"
            }
          },
          "metadata": {}
        },
        {
          "output_type": "stream",
          "name": "stdout",
          "text": [
            "Extracting /content/gdrive/My Drive/Colab Notebooks/MNIST/raw/train-labels-idx1-ubyte.gz to /content/gdrive/My Drive/Colab Notebooks/MNIST/raw\n",
            "\n",
            "Downloading http://yann.lecun.com/exdb/mnist/t10k-images-idx3-ubyte.gz\n",
            "Downloading http://yann.lecun.com/exdb/mnist/t10k-images-idx3-ubyte.gz to /content/gdrive/My Drive/Colab Notebooks/MNIST/raw/t10k-images-idx3-ubyte.gz\n"
          ]
        },
        {
          "output_type": "display_data",
          "data": {
            "text/plain": [
              "  0%|          | 0/1648877 [00:00<?, ?it/s]"
            ],
            "application/vnd.jupyter.widget-view+json": {
              "version_major": 2,
              "version_minor": 0,
              "model_id": "d554885e1bf741838b0ceb9e87f21508"
            }
          },
          "metadata": {}
        },
        {
          "output_type": "stream",
          "name": "stdout",
          "text": [
            "Extracting /content/gdrive/My Drive/Colab Notebooks/MNIST/raw/t10k-images-idx3-ubyte.gz to /content/gdrive/My Drive/Colab Notebooks/MNIST/raw\n",
            "\n",
            "Downloading http://yann.lecun.com/exdb/mnist/t10k-labels-idx1-ubyte.gz\n",
            "Downloading http://yann.lecun.com/exdb/mnist/t10k-labels-idx1-ubyte.gz to /content/gdrive/My Drive/Colab Notebooks/MNIST/raw/t10k-labels-idx1-ubyte.gz\n"
          ]
        },
        {
          "output_type": "display_data",
          "data": {
            "text/plain": [
              "  0%|          | 0/4542 [00:00<?, ?it/s]"
            ],
            "application/vnd.jupyter.widget-view+json": {
              "version_major": 2,
              "version_minor": 0,
              "model_id": "9f56c5e6923243b989a77b11b103ccaa"
            }
          },
          "metadata": {}
        },
        {
          "output_type": "stream",
          "name": "stdout",
          "text": [
            "Extracting /content/gdrive/My Drive/Colab Notebooks/MNIST/raw/t10k-labels-idx1-ubyte.gz to /content/gdrive/My Drive/Colab Notebooks/MNIST/raw\n",
            "\n"
          ]
        }
      ]
    },
    {
      "cell_type": "code",
      "source": [
        "from IPython.display import HTML, display\n",
        "import time\n",
        "\n",
        "def progress(epoch, value, max):\n",
        "    return HTML(\"\"\"\n",
        "        <progress\n",
        "            value='{value}'\n",
        "            max='{max}',\n",
        "            style='width: 100%'\n",
        "        >\n",
        "            {value}/{max}\n",
        "        </progress>\n",
        "        <p>epoch: {epoch}, batch: {value}/{max}</p>\n",
        "    \"\"\".format(value=value, max=max, epoch=epoch))"
      ],
      "metadata": {
        "id": "0UcTE8KKNVmT"
      },
      "execution_count": null,
      "outputs": []
    },
    {
      "cell_type": "code",
      "source": [
        "def train(model,total_epoch,optimizer,criterion,device,model_path,train_loader,val_loader):\n",
        "\n",
        "    # pdb.set_trace()\n",
        "    train_out = display( progress(1, 0, len(train_loader)), display_id=True)\n",
        "    val_out = display( progress(1, 0, len(train_loader)), display_id=True)\n",
        "    \n",
        "    train_loss = []\n",
        "    train_acc = []\n",
        "\n",
        "    val_loss = []\n",
        "    val_acc = []\n",
        "\n",
        "    best_acc = 0.0\n",
        "\n",
        "    for epoch in range(total_epoch):\n",
        "\n",
        "        model.train()  # Set model to training mode it is imp as we are also evaluating in each epoch using validation set\n",
        "        \n",
        "        running_loss = 0.0\n",
        "        running_corrects = 0.0\n",
        "        epoch_size = 0.0\n",
        "        val_out.update(progress(epoch+1, 0, len(val_loader)))\n",
        "        for batch_idx, (inputs, labels) in enumerate(trainloader):\n",
        "\n",
        "            #moving each input,label batch tensor to gpu\n",
        "\n",
        "            inputs = inputs.to(device)\n",
        "            labels = labels.to(device)\n",
        "\n",
        "            # zero the parameter gradients\n",
        "            optimizer.zero_grad()\n",
        "\n",
        "            # forward + backward + optimize\n",
        "            outputs = model(inputs)\n",
        "            loss = criterion(outputs, labels)\n",
        "            loss.backward()\n",
        "            \n",
        "            _, preds = torch.max(outputs, 1)\n",
        "\n",
        "            optimizer.step()\n",
        "\n",
        "            # print statistics\n",
        "            # statistics\n",
        "            running_loss += loss.item()\n",
        "            running_corrects += torch.sum(preds == labels.data)\n",
        "            \n",
        "            epoch_size += inputs.size(0)\n",
        "            #print(inputs.size(0), len(trainloader), loss, loss.item(), len(preds), torch.sum(preds == labels.data))\n",
        "            train_out.update(progress(epoch+1, batch_idx, len(trainloader)))\n",
        "            \n",
        "        # Normalizing the loss by the total number of train batches\n",
        "        \n",
        "        running_loss /= epoch_size\n",
        "        running_corrects =  running_corrects.double() / epoch_size\n",
        "        \n",
        "        train_loss.append(running_loss)\n",
        "        train_acc.append(running_corrects)\n",
        "        \n",
        "        print('train Loss: {:.4f} Acc: {:.4f}%'.format(running_loss, running_corrects*100))\n",
        "        \n",
        "        # evalute\n",
        "        print('Finished epoch {}, starting evaluation'.format(epoch+1))\n",
        "\n",
        "        model.eval()   # Set model to evaluate mode\n",
        "        \n",
        "        running_loss = 0.0\n",
        "        running_corrects = 0.0\n",
        "        epoch_size = 0.0\n",
        "        \n",
        "        with torch.no_grad():\n",
        "            for batch_idx, (inputs, labels) in enumerate(val_loader):\n",
        "                \n",
        "                inputs = inputs.to(device)\n",
        "                labels = labels.to(device)\n",
        "                \n",
        "                outputs = model(inputs)\n",
        "                loss = criterion(outputs, labels)\n",
        "\n",
        "                _, preds = torch.max(outputs, 1)\n",
        "\n",
        "                # statistics\n",
        "                running_loss += loss.item()\n",
        "                running_corrects += torch.sum(preds == labels.data)\n",
        "                \n",
        "                epoch_size += inputs.size(0)\n",
        "                val_out.update(progress(epoch+1, batch_idx, len(val_loader)))\n",
        "        \n",
        "        running_loss /= epoch_size\n",
        "        running_corrects =  running_corrects.double() / epoch_size\n",
        "        \n",
        "        print('Validation Loss: {:.4f} Acc: {:.4f}%'.format(running_loss, running_corrects*100))\n",
        "        \n",
        "        val_loss.append(running_loss)\n",
        "        val_acc.append(running_corrects)\n",
        "        \n",
        "        # deep copy the model\n",
        "        if running_corrects > best_acc:\n",
        "            print(\"saving best model val_acc : {:.4f}\".format(running_corrects))\n",
        "            best_acc = running_corrects\n",
        "            \n",
        "            model_copy = copy.deepcopy(model)\n",
        "            #moving the deep copy of the model to cpu as it will take space on gpu, also it is important to not move the original model as it is still training on GPU\n",
        "            model_copy = model_copy.cpu()\n",
        "            \n",
        "            model_state_dict = model_copy.state_dict()\n",
        "            torch.save(model_state_dict, model_path)\n",
        "\n",
        "            del model_copy\n",
        "\n",
        "    print('==> Finished Training ...')\n",
        "        #     print(\"saving best model val_acc : {:.4f}\".format(running_corrects))  \n",
        "\n",
        "    torch.save(model.state_dict(), model_path)\n",
        "    return (train_loss, train_acc, val_loss, val_acc)\n"
      ],
      "metadata": {
        "id": "jq8DzOAo1V6L"
      },
      "execution_count": null,
      "outputs": []
    },
    {
      "cell_type": "code",
      "source": [
        "transformation = transforms.Compose([\n",
        "    transforms.RandomCrop(28),\n",
        "    transforms.RandomHorizontalFlip(),\n",
        "    transforms.ToTensor(),\n",
        "    transforms.Normalize((0.5), (0.5)),\n",
        "])"
      ],
      "metadata": {
        "id": "YCy85YMlJ-SU"
      },
      "execution_count": null,
      "outputs": []
    },
    {
      "cell_type": "markdown",
      "source": [
        "## **Data Loading**"
      ],
      "metadata": {
        "id": "Bln-GRpHLvTs"
      }
    },
    {
      "cell_type": "code",
      "source": [
        "# Load the dataset and train, val, test splits\n",
        "print(\"Loading datasets...\")\n",
        "transform = transforms.Compose([\n",
        "    transforms.RandomCrop(28),\n",
        "    transforms.RandomHorizontalFlip(),\n",
        "    transforms.ToTensor(),\n",
        "    transforms.Normalize((0.5), (0.5)),\n",
        "])\n",
        "train_data = datasets.MNIST('.', download=True, train=True, transform=transform)\n",
        "# FASHION_train = Subset(FASHION_trainval, range(50000))\n",
        "# FASHION_val = Subset(FASHION_trainval, range(50000,60000))\n",
        "test_data = datasets.MNIST('.', download=True, train=False, transform=transform)\n",
        "print(\"Done!\")\n"
      ],
      "metadata": {
        "colab": {
          "base_uri": "https://localhost:8080/"
        },
        "id": "Kc9bWOcULydy",
        "outputId": "e0c92e85-afe1-4c91-fc17-94041294a198"
      },
      "execution_count": null,
      "outputs": [
        {
          "output_type": "stream",
          "name": "stdout",
          "text": [
            "Loading datasets...\n",
            "Done!\n"
          ]
        }
      ]
    },
    {
      "cell_type": "code",
      "source": [
        "print(f'Number of training examples: {len(train_data)}')\n",
        "print(f'Number of testing examples: {len(test_data)}')"
      ],
      "metadata": {
        "colab": {
          "base_uri": "https://localhost:8080/"
        },
        "id": "H7XxgIruL1UB",
        "outputId": "bbfb55bb-c8e0-48ee-806c-f2bef6d5a320"
      },
      "execution_count": null,
      "outputs": [
        {
          "output_type": "stream",
          "name": "stdout",
          "text": [
            "Number of training examples: 60000\n",
            "Number of testing examples: 10000\n"
          ]
        }
      ]
    },
    {
      "cell_type": "code",
      "source": [
        "VALID_RATIO = 0.9\n",
        "\n",
        "n_train_examples = int(len(train_data) * VALID_RATIO)\n",
        "n_valid_examples = len(train_data) - n_train_examples\n",
        "\n",
        "train_data, valid_data = data.random_split(train_data, [n_train_examples, n_valid_examples])\n",
        "print(f'Number of training examples: {len(train_data)}')\n",
        "print(f'Number of validation examples: {len(valid_data)}')"
      ],
      "metadata": {
        "colab": {
          "base_uri": "https://localhost:8080/"
        },
        "id": "8BYnSPapL45h",
        "outputId": "3a558a22-3ce4-4596-a1bd-c1e1c123d8e1"
      },
      "execution_count": null,
      "outputs": [
        {
          "output_type": "stream",
          "name": "stdout",
          "text": [
            "Number of training examples: 54000\n",
            "Number of validation examples: 6000\n"
          ]
        }
      ]
    },
    {
      "cell_type": "code",
      "source": [
        "# Create dataloaders\n",
        "# TODO: Experiment with different batch sizes\n",
        "trainloader = DataLoader(train_data, batch_size=batch_size, shuffle=True)\n",
        "val_loader = DataLoader(valid_data, batch_size=batch_size, shuffle=True)\n",
        "test_loader = DataLoader(test_data, batch_size=batch_size, shuffle=True)"
      ],
      "metadata": {
        "id": "bJ3mQjAmL7Yy"
      },
      "execution_count": null,
      "outputs": []
    },
    {
      "cell_type": "markdown",
      "source": [
        "# **Training**"
      ],
      "metadata": {
        "id": "4jwa1VYLMEbP"
      }
    },
    {
      "cell_type": "code",
      "source": [
        "train_loss, train_acc, val_loss, val_acc = train(model,total_epoch,optimizer,criterion,device,model_path,trainloader,val_loader)"
      ],
      "metadata": {
        "colab": {
          "base_uri": "https://localhost:8080/",
          "height": 1000
        },
        "id": "jXVca32ML-Al",
        "outputId": "aab3b761-cd1a-4c4e-adbf-cb699dc6314c"
      },
      "execution_count": null,
      "outputs": [
        {
          "output_type": "display_data",
          "data": {
            "text/plain": [
              "<IPython.core.display.HTML object>"
            ],
            "text/html": [
              "\n",
              "        <progress\n",
              "            value='1079'\n",
              "            max='1080',\n",
              "            style='width: 100%'\n",
              "        >\n",
              "            1079/1080\n",
              "        </progress>\n",
              "        <p>epoch: 100, batch: 1079/1080</p>\n",
              "    "
            ]
          },
          "metadata": {}
        },
        {
          "output_type": "display_data",
          "data": {
            "text/plain": [
              "<IPython.core.display.HTML object>"
            ],
            "text/html": [
              "\n",
              "        <progress\n",
              "            value='119'\n",
              "            max='120',\n",
              "            style='width: 100%'\n",
              "        >\n",
              "            119/120\n",
              "        </progress>\n",
              "        <p>epoch: 100, batch: 119/120</p>\n",
              "    "
            ]
          },
          "metadata": {}
        },
        {
          "output_type": "stream",
          "name": "stdout",
          "text": [
            "train Loss: 0.0444 Acc: 23.7833%\n",
            "Finished epoch 1, starting evaluation\n",
            "Validation Loss: 0.0371 Acc: 68.8500%\n",
            "saving best model val_acc : 0.6885\n",
            "train Loss: 0.0355 Acc: 70.7463%\n",
            "Finished epoch 2, starting evaluation\n",
            "Validation Loss: 0.0338 Acc: 78.1500%\n",
            "saving best model val_acc : 0.7815\n",
            "train Loss: 0.0342 Acc: 76.1130%\n",
            "Finished epoch 3, starting evaluation\n",
            "Validation Loss: 0.0335 Acc: 79.2500%\n",
            "saving best model val_acc : 0.7925\n",
            "train Loss: 0.0338 Acc: 77.8630%\n",
            "Finished epoch 4, starting evaluation\n",
            "Validation Loss: 0.0332 Acc: 80.7333%\n",
            "saving best model val_acc : 0.8073\n",
            "train Loss: 0.0335 Acc: 79.1981%\n",
            "Finished epoch 5, starting evaluation\n",
            "Validation Loss: 0.0330 Acc: 81.6333%\n",
            "saving best model val_acc : 0.8163\n",
            "train Loss: 0.0333 Acc: 80.2704%\n",
            "Finished epoch 6, starting evaluation\n",
            "Validation Loss: 0.0329 Acc: 81.9500%\n",
            "saving best model val_acc : 0.8195\n",
            "train Loss: 0.0331 Acc: 81.0667%\n",
            "Finished epoch 7, starting evaluation\n",
            "Validation Loss: 0.0327 Acc: 82.7000%\n",
            "saving best model val_acc : 0.8270\n",
            "train Loss: 0.0330 Acc: 81.8389%\n",
            "Finished epoch 8, starting evaluation\n",
            "Validation Loss: 0.0326 Acc: 83.4000%\n",
            "saving best model val_acc : 0.8340\n",
            "train Loss: 0.0328 Acc: 82.4185%\n",
            "Finished epoch 9, starting evaluation\n",
            "Validation Loss: 0.0326 Acc: 83.4000%\n",
            "train Loss: 0.0327 Acc: 83.0907%\n",
            "Finished epoch 10, starting evaluation\n",
            "Validation Loss: 0.0322 Acc: 85.2667%\n",
            "saving best model val_acc : 0.8527\n",
            "train Loss: 0.0323 Acc: 85.1926%\n",
            "Finished epoch 11, starting evaluation\n",
            "Validation Loss: 0.0317 Acc: 88.0333%\n",
            "saving best model val_acc : 0.8803\n",
            "train Loss: 0.0319 Acc: 87.3630%\n",
            "Finished epoch 12, starting evaluation\n",
            "Validation Loss: 0.0312 Acc: 90.5000%\n",
            "saving best model val_acc : 0.9050\n",
            "train Loss: 0.0315 Acc: 89.1167%\n",
            "Finished epoch 13, starting evaluation\n",
            "Validation Loss: 0.0309 Acc: 92.1333%\n",
            "saving best model val_acc : 0.9213\n",
            "train Loss: 0.0313 Acc: 90.2111%\n",
            "Finished epoch 14, starting evaluation\n",
            "Validation Loss: 0.0307 Acc: 92.8667%\n",
            "saving best model val_acc : 0.9287\n",
            "train Loss: 0.0312 Acc: 90.9241%\n",
            "Finished epoch 15, starting evaluation\n",
            "Validation Loss: 0.0307 Acc: 93.1833%\n",
            "saving best model val_acc : 0.9318\n",
            "train Loss: 0.0311 Acc: 91.3352%\n",
            "Finished epoch 16, starting evaluation\n",
            "Validation Loss: 0.0306 Acc: 93.6000%\n",
            "saving best model val_acc : 0.9360\n",
            "train Loss: 0.0310 Acc: 91.8907%\n",
            "Finished epoch 17, starting evaluation\n",
            "Validation Loss: 0.0305 Acc: 93.7667%\n",
            "saving best model val_acc : 0.9377\n",
            "train Loss: 0.0309 Acc: 92.3241%\n",
            "Finished epoch 18, starting evaluation\n",
            "Validation Loss: 0.0304 Acc: 94.0667%\n",
            "saving best model val_acc : 0.9407\n",
            "train Loss: 0.0308 Acc: 92.6981%\n",
            "Finished epoch 19, starting evaluation\n",
            "Validation Loss: 0.0304 Acc: 94.5833%\n",
            "saving best model val_acc : 0.9458\n",
            "train Loss: 0.0307 Acc: 92.8704%\n",
            "Finished epoch 20, starting evaluation\n",
            "Validation Loss: 0.0303 Acc: 94.7000%\n",
            "saving best model val_acc : 0.9470\n",
            "train Loss: 0.0307 Acc: 93.1833%\n",
            "Finished epoch 21, starting evaluation\n",
            "Validation Loss: 0.0303 Acc: 94.7833%\n",
            "saving best model val_acc : 0.9478\n",
            "train Loss: 0.0306 Acc: 93.3185%\n",
            "Finished epoch 22, starting evaluation\n",
            "Validation Loss: 0.0303 Acc: 95.0333%\n",
            "saving best model val_acc : 0.9503\n",
            "train Loss: 0.0306 Acc: 93.6537%\n",
            "Finished epoch 23, starting evaluation\n",
            "Validation Loss: 0.0302 Acc: 95.2500%\n",
            "saving best model val_acc : 0.9525\n",
            "train Loss: 0.0305 Acc: 93.8056%\n",
            "Finished epoch 24, starting evaluation\n",
            "Validation Loss: 0.0302 Acc: 95.3667%\n",
            "saving best model val_acc : 0.9537\n",
            "train Loss: 0.0305 Acc: 93.8926%\n",
            "Finished epoch 25, starting evaluation\n",
            "Validation Loss: 0.0302 Acc: 95.2667%\n",
            "train Loss: 0.0305 Acc: 94.0963%\n",
            "Finished epoch 26, starting evaluation\n",
            "Validation Loss: 0.0302 Acc: 95.6000%\n",
            "saving best model val_acc : 0.9560\n",
            "train Loss: 0.0305 Acc: 94.2407%\n",
            "Finished epoch 27, starting evaluation\n",
            "Validation Loss: 0.0301 Acc: 95.6500%\n",
            "saving best model val_acc : 0.9565\n",
            "train Loss: 0.0304 Acc: 94.3556%\n",
            "Finished epoch 28, starting evaluation\n",
            "Validation Loss: 0.0301 Acc: 95.7333%\n",
            "saving best model val_acc : 0.9573\n",
            "train Loss: 0.0304 Acc: 94.4944%\n",
            "Finished epoch 29, starting evaluation\n",
            "Validation Loss: 0.0301 Acc: 95.7833%\n",
            "saving best model val_acc : 0.9578\n",
            "train Loss: 0.0303 Acc: 94.6907%\n",
            "Finished epoch 30, starting evaluation\n",
            "Validation Loss: 0.0301 Acc: 95.8833%\n",
            "saving best model val_acc : 0.9588\n",
            "train Loss: 0.0304 Acc: 94.6463%\n",
            "Finished epoch 31, starting evaluation\n",
            "Validation Loss: 0.0301 Acc: 95.8333%\n",
            "train Loss: 0.0303 Acc: 94.8556%\n",
            "Finished epoch 32, starting evaluation\n",
            "Validation Loss: 0.0301 Acc: 96.0167%\n",
            "saving best model val_acc : 0.9602\n",
            "train Loss: 0.0303 Acc: 94.9222%\n",
            "Finished epoch 33, starting evaluation\n",
            "Validation Loss: 0.0300 Acc: 96.1500%\n",
            "saving best model val_acc : 0.9615\n",
            "train Loss: 0.0303 Acc: 94.9222%\n",
            "Finished epoch 34, starting evaluation\n",
            "Validation Loss: 0.0300 Acc: 96.1333%\n",
            "train Loss: 0.0303 Acc: 95.1426%\n",
            "Finished epoch 35, starting evaluation\n",
            "Validation Loss: 0.0300 Acc: 96.1000%\n",
            "train Loss: 0.0302 Acc: 95.1963%\n",
            "Finished epoch 36, starting evaluation\n",
            "Validation Loss: 0.0300 Acc: 95.9667%\n",
            "train Loss: 0.0302 Acc: 95.1944%\n",
            "Finished epoch 37, starting evaluation\n",
            "Validation Loss: 0.0300 Acc: 96.2167%\n",
            "saving best model val_acc : 0.9622\n",
            "train Loss: 0.0302 Acc: 95.2741%\n",
            "Finished epoch 38, starting evaluation\n",
            "Validation Loss: 0.0300 Acc: 96.2667%\n",
            "saving best model val_acc : 0.9627\n",
            "train Loss: 0.0302 Acc: 95.3370%\n",
            "Finished epoch 39, starting evaluation\n",
            "Validation Loss: 0.0300 Acc: 96.3500%\n",
            "saving best model val_acc : 0.9635\n",
            "train Loss: 0.0302 Acc: 95.3093%\n",
            "Finished epoch 40, starting evaluation\n",
            "Validation Loss: 0.0299 Acc: 96.4333%\n",
            "saving best model val_acc : 0.9643\n",
            "train Loss: 0.0302 Acc: 95.4259%\n",
            "Finished epoch 41, starting evaluation\n",
            "Validation Loss: 0.0300 Acc: 96.4000%\n",
            "train Loss: 0.0302 Acc: 95.4519%\n",
            "Finished epoch 42, starting evaluation\n",
            "Validation Loss: 0.0299 Acc: 96.5333%\n",
            "saving best model val_acc : 0.9653\n",
            "train Loss: 0.0301 Acc: 95.6315%\n",
            "Finished epoch 43, starting evaluation\n",
            "Validation Loss: 0.0299 Acc: 96.6833%\n",
            "saving best model val_acc : 0.9668\n",
            "train Loss: 0.0301 Acc: 95.7111%\n",
            "Finished epoch 44, starting evaluation\n",
            "Validation Loss: 0.0299 Acc: 96.6167%\n",
            "train Loss: 0.0301 Acc: 95.6426%\n",
            "Finished epoch 45, starting evaluation\n",
            "Validation Loss: 0.0299 Acc: 96.7500%\n",
            "saving best model val_acc : 0.9675\n",
            "train Loss: 0.0301 Acc: 95.6778%\n",
            "Finished epoch 46, starting evaluation\n",
            "Validation Loss: 0.0299 Acc: 96.6500%\n",
            "train Loss: 0.0301 Acc: 95.8315%\n",
            "Finished epoch 47, starting evaluation\n",
            "Validation Loss: 0.0299 Acc: 96.6333%\n",
            "train Loss: 0.0301 Acc: 95.7944%\n",
            "Finished epoch 48, starting evaluation\n",
            "Validation Loss: 0.0299 Acc: 96.7500%\n",
            "train Loss: 0.0301 Acc: 95.9741%\n",
            "Finished epoch 49, starting evaluation\n",
            "Validation Loss: 0.0299 Acc: 96.7167%\n",
            "train Loss: 0.0301 Acc: 95.9315%\n",
            "Finished epoch 50, starting evaluation\n",
            "Validation Loss: 0.0299 Acc: 96.7833%\n",
            "saving best model val_acc : 0.9678\n",
            "train Loss: 0.0301 Acc: 95.8944%\n",
            "Finished epoch 51, starting evaluation\n",
            "Validation Loss: 0.0299 Acc: 96.6500%\n",
            "train Loss: 0.0301 Acc: 95.9352%\n",
            "Finished epoch 52, starting evaluation\n",
            "Validation Loss: 0.0299 Acc: 96.7833%\n",
            "train Loss: 0.0301 Acc: 96.0074%\n",
            "Finished epoch 53, starting evaluation\n",
            "Validation Loss: 0.0299 Acc: 96.9667%\n",
            "saving best model val_acc : 0.9697\n",
            "train Loss: 0.0300 Acc: 96.1278%\n",
            "Finished epoch 54, starting evaluation\n",
            "Validation Loss: 0.0298 Acc: 97.0000%\n",
            "saving best model val_acc : 0.9700\n",
            "train Loss: 0.0300 Acc: 96.0426%\n",
            "Finished epoch 55, starting evaluation\n",
            "Validation Loss: 0.0298 Acc: 97.2167%\n",
            "saving best model val_acc : 0.9722\n",
            "train Loss: 0.0300 Acc: 96.1315%\n",
            "Finished epoch 56, starting evaluation\n",
            "Validation Loss: 0.0298 Acc: 97.0667%\n",
            "train Loss: 0.0300 Acc: 96.1981%\n",
            "Finished epoch 57, starting evaluation\n",
            "Validation Loss: 0.0299 Acc: 96.8500%\n",
            "train Loss: 0.0300 Acc: 96.1296%\n",
            "Finished epoch 58, starting evaluation\n",
            "Validation Loss: 0.0298 Acc: 96.9667%\n",
            "train Loss: 0.0300 Acc: 96.2556%\n",
            "Finished epoch 59, starting evaluation\n",
            "Validation Loss: 0.0298 Acc: 97.2000%\n",
            "train Loss: 0.0300 Acc: 96.4130%\n",
            "Finished epoch 60, starting evaluation\n",
            "Validation Loss: 0.0299 Acc: 96.7500%\n",
            "train Loss: 0.0300 Acc: 96.4019%\n",
            "Finished epoch 61, starting evaluation\n",
            "Validation Loss: 0.0298 Acc: 97.2000%\n",
            "train Loss: 0.0300 Acc: 96.3241%\n",
            "Finished epoch 62, starting evaluation\n",
            "Validation Loss: 0.0298 Acc: 97.0167%\n",
            "train Loss: 0.0300 Acc: 96.4148%\n",
            "Finished epoch 63, starting evaluation\n",
            "Validation Loss: 0.0298 Acc: 97.2167%\n",
            "train Loss: 0.0300 Acc: 96.4463%\n",
            "Finished epoch 64, starting evaluation\n",
            "Validation Loss: 0.0298 Acc: 97.0667%\n",
            "train Loss: 0.0300 Acc: 96.3981%\n",
            "Finished epoch 65, starting evaluation\n",
            "Validation Loss: 0.0298 Acc: 97.0833%\n",
            "train Loss: 0.0300 Acc: 96.4648%\n",
            "Finished epoch 66, starting evaluation\n",
            "Validation Loss: 0.0298 Acc: 97.1667%\n",
            "train Loss: 0.0300 Acc: 96.4204%\n",
            "Finished epoch 67, starting evaluation\n",
            "Validation Loss: 0.0298 Acc: 97.2833%\n",
            "saving best model val_acc : 0.9728\n",
            "train Loss: 0.0300 Acc: 96.5574%\n",
            "Finished epoch 68, starting evaluation\n",
            "Validation Loss: 0.0298 Acc: 97.0833%\n",
            "train Loss: 0.0300 Acc: 96.5037%\n",
            "Finished epoch 69, starting evaluation\n",
            "Validation Loss: 0.0298 Acc: 97.3167%\n",
            "saving best model val_acc : 0.9732\n",
            "train Loss: 0.0299 Acc: 96.6093%\n",
            "Finished epoch 70, starting evaluation\n",
            "Validation Loss: 0.0298 Acc: 97.2500%\n",
            "train Loss: 0.0299 Acc: 96.5481%\n",
            "Finished epoch 71, starting evaluation\n",
            "Validation Loss: 0.0298 Acc: 97.2333%\n",
            "train Loss: 0.0299 Acc: 96.6704%\n",
            "Finished epoch 72, starting evaluation\n",
            "Validation Loss: 0.0298 Acc: 97.2500%\n",
            "train Loss: 0.0299 Acc: 96.6963%\n",
            "Finished epoch 73, starting evaluation\n",
            "Validation Loss: 0.0297 Acc: 97.5000%\n",
            "saving best model val_acc : 0.9750\n",
            "train Loss: 0.0299 Acc: 96.7019%\n",
            "Finished epoch 74, starting evaluation\n",
            "Validation Loss: 0.0298 Acc: 97.3667%\n",
            "train Loss: 0.0299 Acc: 96.7667%\n",
            "Finished epoch 75, starting evaluation\n",
            "Validation Loss: 0.0297 Acc: 97.4167%\n",
            "train Loss: 0.0299 Acc: 96.8389%\n",
            "Finished epoch 76, starting evaluation\n",
            "Validation Loss: 0.0297 Acc: 97.5000%\n",
            "train Loss: 0.0299 Acc: 96.8037%\n",
            "Finished epoch 77, starting evaluation\n",
            "Validation Loss: 0.0298 Acc: 97.3167%\n",
            "train Loss: 0.0299 Acc: 96.7870%\n",
            "Finished epoch 78, starting evaluation\n",
            "Validation Loss: 0.0297 Acc: 97.4500%\n",
            "train Loss: 0.0299 Acc: 96.7630%\n",
            "Finished epoch 79, starting evaluation\n",
            "Validation Loss: 0.0298 Acc: 97.4333%\n",
            "train Loss: 0.0299 Acc: 96.8444%\n",
            "Finished epoch 80, starting evaluation\n",
            "Validation Loss: 0.0297 Acc: 97.4833%\n",
            "train Loss: 0.0299 Acc: 96.8796%\n",
            "Finished epoch 81, starting evaluation\n",
            "Validation Loss: 0.0297 Acc: 97.5500%\n",
            "saving best model val_acc : 0.9755\n",
            "train Loss: 0.0299 Acc: 96.9370%\n",
            "Finished epoch 82, starting evaluation\n",
            "Validation Loss: 0.0297 Acc: 97.4667%\n",
            "train Loss: 0.0299 Acc: 96.8611%\n",
            "Finished epoch 83, starting evaluation\n",
            "Validation Loss: 0.0297 Acc: 97.5167%\n",
            "train Loss: 0.0299 Acc: 96.9278%\n",
            "Finished epoch 84, starting evaluation\n",
            "Validation Loss: 0.0297 Acc: 97.6333%\n",
            "saving best model val_acc : 0.9763\n",
            "train Loss: 0.0299 Acc: 96.9593%\n",
            "Finished epoch 85, starting evaluation\n",
            "Validation Loss: 0.0297 Acc: 97.8500%\n",
            "saving best model val_acc : 0.9785\n",
            "train Loss: 0.0299 Acc: 96.9778%\n",
            "Finished epoch 86, starting evaluation\n",
            "Validation Loss: 0.0297 Acc: 97.6833%\n",
            "train Loss: 0.0299 Acc: 96.9259%\n",
            "Finished epoch 87, starting evaluation\n",
            "Validation Loss: 0.0297 Acc: 97.5667%\n",
            "train Loss: 0.0299 Acc: 96.9778%\n",
            "Finished epoch 88, starting evaluation\n",
            "Validation Loss: 0.0297 Acc: 97.7500%\n",
            "train Loss: 0.0298 Acc: 97.0722%\n",
            "Finished epoch 89, starting evaluation\n",
            "Validation Loss: 0.0297 Acc: 97.8333%\n",
            "train Loss: 0.0299 Acc: 97.0056%\n",
            "Finished epoch 90, starting evaluation\n",
            "Validation Loss: 0.0297 Acc: 97.5333%\n",
            "train Loss: 0.0299 Acc: 96.9944%\n",
            "Finished epoch 91, starting evaluation\n",
            "Validation Loss: 0.0297 Acc: 97.5167%\n",
            "train Loss: 0.0298 Acc: 97.0593%\n",
            "Finished epoch 92, starting evaluation\n",
            "Validation Loss: 0.0297 Acc: 97.7833%\n",
            "train Loss: 0.0299 Acc: 96.9926%\n",
            "Finished epoch 93, starting evaluation\n",
            "Validation Loss: 0.0297 Acc: 97.6667%\n",
            "train Loss: 0.0298 Acc: 97.2148%\n",
            "Finished epoch 94, starting evaluation\n",
            "Validation Loss: 0.0297 Acc: 97.7667%\n",
            "train Loss: 0.0298 Acc: 97.1352%\n",
            "Finished epoch 95, starting evaluation\n",
            "Validation Loss: 0.0297 Acc: 97.6333%\n",
            "train Loss: 0.0298 Acc: 97.1352%\n",
            "Finished epoch 96, starting evaluation\n",
            "Validation Loss: 0.0297 Acc: 97.6000%\n",
            "train Loss: 0.0298 Acc: 97.1630%\n",
            "Finished epoch 97, starting evaluation\n",
            "Validation Loss: 0.0297 Acc: 97.5000%\n",
            "train Loss: 0.0298 Acc: 97.1204%\n",
            "Finished epoch 98, starting evaluation\n",
            "Validation Loss: 0.0297 Acc: 97.6000%\n",
            "train Loss: 0.0298 Acc: 97.2130%\n",
            "Finished epoch 99, starting evaluation\n",
            "Validation Loss: 0.0297 Acc: 97.6333%\n",
            "train Loss: 0.0298 Acc: 97.1407%\n",
            "Finished epoch 100, starting evaluation\n",
            "Validation Loss: 0.0297 Acc: 97.6167%\n",
            "==> Finished Training ...\n"
          ]
        }
      ]
    },
    {
      "cell_type": "code",
      "source": [
        "line1, = plt.plot(train_loss, label='Training loss')\n",
        "line2, = plt.plot(val_loss, label='Validation loss')\n",
        "plt.legend(handles=[line1, line2])\n",
        "plt.show()"
      ],
      "metadata": {
        "colab": {
          "base_uri": "https://localhost:8080/",
          "height": 265
        },
        "id": "XTcCuWzNMu3P",
        "outputId": "b21c73dd-45d6-4711-9e62-832ee3654ec1"
      },
      "execution_count": null,
      "outputs": [
        {
          "output_type": "display_data",
          "data": {
            "text/plain": [
              "<Figure size 432x288 with 1 Axes>"
            ],
            "image/png": "[encoded data removed]"
          },
          "metadata": {
            "needs_background": "light"
          }
        }
      ]
    },
    {
      "cell_type": "code",
      "source": [
        "train_x = list(map(lambda x : x.item(), train_acc))\n",
        "\n",
        "val_x = list(map(lambda x : x.item(), val_acc))\n",
        "\n",
        "line3, = plt.plot(train_x, label='Training accuracy')\n",
        "line4, = plt.plot(val_x, label='Validation accuracy')\n",
        "plt.legend(handles=[line3, line4])\n",
        "\n"
      ],
      "metadata": {
        "id": "8MRdejucTIxp",
        "colab": {
          "base_uri": "https://localhost:8080/",
          "height": 282
        },
        "outputId": "ed415cfb-fc41-41b3-d74a-4d6b154632e0"
      },
      "execution_count": null,
      "outputs": [
        {
          "output_type": "execute_result",
          "data": {
            "text/plain": [
              "<matplotlib.legend.Legend at 0x7f36224081f0>"
            ]
          },
          "metadata": {},
          "execution_count": 65
        },
        {
          "output_type": "display_data",
          "data": {
            "text/plain": [
              "<Figure size 432x288 with 1 Axes>"
            ],
            "image/png": "[encoded data removed]"
          },
          "metadata": {
            "needs_background": "light"
          }
        }
      ]
    },
    {
      "cell_type": "markdown",
      "source": [
        "## **Testing the model**"
      ],
      "metadata": {
        "id": "pMNG7vyAPV0v"
      }
    },
    {
      "cell_type": "code",
      "source": [
        "def clean_test(model,testloader,device):\n",
        "\n",
        "    model.eval()\n",
        "    running_corrects = 0.0\n",
        "    epoch_size = 0.0\n",
        "\n",
        "    with torch.no_grad():\n",
        "        for batch_idx, (inputs, labels) in enumerate(testloader):\n",
        "            \n",
        "            inputs = inputs.to(device)\n",
        "            labels = labels.to(device)\n",
        "\n",
        "            outputs = model(inputs)\n",
        "\n",
        "            _, preds = torch.max(outputs, 1)\n",
        "\n",
        "            # statistics\n",
        "            running_corrects += torch.sum(preds == labels.data)\n",
        "            \n",
        "            epoch_size += inputs.size(0)\n",
        "\n",
        "    running_corrects =  running_corrects.double() / epoch_size\n",
        "\n",
        "    print('Test  Acc: {:.4f}%'.format(running_corrects*100))"
      ],
      "metadata": {
        "id": "ie3FhbCBPXsd"
      },
      "execution_count": null,
      "outputs": []
    },
    {
      "cell_type": "code",
      "source": [
        "model.load_state_dict(torch.load(model_path))"
      ],
      "metadata": {
        "colab": {
          "base_uri": "https://localhost:8080/"
        },
        "id": "f7qg7KODPev5",
        "outputId": "7a25066f-9836-4ea3-fdf6-30222ba2016f"
      },
      "execution_count": null,
      "outputs": [
        {
          "output_type": "execute_result",
          "data": {
            "text/plain": [
              "<All keys matched successfully>"
            ]
          },
          "metadata": {},
          "execution_count": 45
        }
      ]
    },
    {
      "cell_type": "code",
      "source": [
        "clean_test(model,test_loader,device)"
      ],
      "metadata": {
        "colab": {
          "base_uri": "https://localhost:8080/"
        },
        "id": "HokrwraGTrAE",
        "outputId": "5d2c74c2-80b5-4331-eff3-056280731b5b"
      },
      "execution_count": null,
      "outputs": [
        {
          "output_type": "stream",
          "name": "stdout",
          "text": [
            "Test  Acc: 98.0800%\n"
          ]
        }
      ]
    },
    {
      "cell_type": "markdown",
      "source": [
        "## **Adversarial Images Creations**"
      ],
      "metadata": {
        "id": "fzHaf9n46KWJ"
      }
    },
    {
      "cell_type": "code",
      "source": [
        "batch_size = 50\n",
        "valid_size = 10000"
      ],
      "metadata": {
        "id": "dsMyUtynTv9h"
      },
      "execution_count": null,
      "outputs": []
    },
    {
      "cell_type": "code",
      "source": [
        "!pip install foolbox\n",
        "import foolbox as fb #python library to produce adversarial examples\n",
        "import pickle"
      ],
      "metadata": {
        "colab": {
          "base_uri": "https://localhost:8080/"
        },
        "id": "u_3t83Hj6MFA",
        "outputId": "8f0fe26f-0af8-4091-ac9d-b8435fecefa5"
      },
      "execution_count": null,
      "outputs": [
        {
          "output_type": "stream",
          "name": "stdout",
          "text": [
            "Looking in indexes: https://pypi.org/simple, https://us-python.pkg.dev/colab-wheels/public/simple/\n",
            "Collecting foolbox\n",
            "  Downloading foolbox-3.3.3-py3-none-any.whl (1.7 MB)\n",
            "\u001b[2K     \u001b[90m━━━━━━━━━━━━━━━━━━━━━━━━━━━━━━━━━━━━━━━━\u001b[0m \u001b[32m1.7/1.7 MB\u001b[0m \u001b[31m69.0 MB/s\u001b[0m eta \u001b[36m0:00:00\u001b[0m\n",
            "\u001b[?25hRequirement already satisfied: numpy in /usr/local/lib/python3.8/dist-packages (from foolbox) (1.22.4)\n",
            "Requirement already satisfied: requests>=2.24.0 in /usr/local/lib/python3.8/dist-packages (from foolbox) (2.25.1)\n",
            "Requirement already satisfied: setuptools in /usr/local/lib/python3.8/dist-packages (from foolbox) (57.4.0)\n",
            "Collecting eagerpy>=0.30.0\n",
            "  Downloading eagerpy-0.30.0-py3-none-any.whl (31 kB)\n",
            "Requirement already satisfied: scipy in /usr/local/lib/python3.8/dist-packages (from foolbox) (1.7.3)\n",
            "Requirement already satisfied: typing-extensions>=3.7.4.1 in /usr/local/lib/python3.8/dist-packages (from foolbox) (4.5.0)\n",
            "Collecting GitPython>=3.0.7\n",
            "  Downloading GitPython-3.1.31-py3-none-any.whl (184 kB)\n",
            "\u001b[2K     \u001b[90m━━━━━━━━━━━━━━━━━━━━━━━━━━━━━━━━━━━━━━\u001b[0m \u001b[32m184.3/184.3 KB\u001b[0m \u001b[31m24.0 MB/s\u001b[0m eta \u001b[36m0:00:00\u001b[0m\n",
            "\u001b[?25hCollecting gitdb<5,>=4.0.1\n",
            "  Downloading gitdb-4.0.10-py3-none-any.whl (62 kB)\n",
            "\u001b[2K     \u001b[90m━━━━━━━━━━━━━━━━━━━━━━━━━━━━━━━━━━━━━━━━\u001b[0m \u001b[32m62.7/62.7 KB\u001b[0m \u001b[31m8.3 MB/s\u001b[0m eta \u001b[36m0:00:00\u001b[0m\n",
            "\u001b[?25hRequirement already satisfied: certifi>=2017.4.17 in /usr/local/lib/python3.8/dist-packages (from requests>=2.24.0->foolbox) (2022.12.7)\n",
            "Requirement already satisfied: urllib3<1.27,>=1.21.1 in /usr/local/lib/python3.8/dist-packages (from requests>=2.24.0->foolbox) (1.24.3)\n",
            "Requirement already satisfied: idna<3,>=2.5 in /usr/local/lib/python3.8/dist-packages (from requests>=2.24.0->foolbox) (2.10)\n",
            "Requirement already satisfied: chardet<5,>=3.0.2 in /usr/local/lib/python3.8/dist-packages (from requests>=2.24.0->foolbox) (4.0.0)\n",
            "Collecting smmap<6,>=3.0.1\n",
            "  Downloading smmap-5.0.0-py3-none-any.whl (24 kB)\n",
            "Installing collected packages: smmap, eagerpy, gitdb, GitPython, foolbox\n",
            "Successfully installed GitPython-3.1.31 eagerpy-0.30.0 foolbox-3.3.3 gitdb-4.0.10 smmap-5.0.0\n"
          ]
        }
      ]
    },
    {
      "cell_type": "code",
      "source": [
        "def fgsm_adv_generate(dataset_name,adv_root_folder,model,device,test_loader):\n",
        "\n",
        "\n",
        "    model.eval()\n",
        "\n",
        "    root_path_to_store = adv_root_folder + dataset_name \n",
        "\n",
        "    if not os.path.exists(root_path_to_store):\n",
        "      os.mkdir(root_path_to_store)\n",
        "    \n",
        "    fmodel = fb.PyTorchModel(model, bounds=(-1,1),device = device)\n",
        "    attack = fb.attacks.FGSM()\n",
        "\n",
        "    fgsm_adv = []\n",
        "    fgsm_index = []\n",
        "    fgsm_label = []\n",
        "    sum = 0\n",
        "\n",
        "    #for index\n",
        "    count = 0\n",
        "    for imgs_batch,labels_batch in test_loader:\n",
        "      imgs_batch = imgs_batch.to(device)\n",
        "      labels_batch = labels_batch.to(device)\n",
        "      raw, clipped, is_adv = attack(fmodel, imgs_batch, labels_batch, epsilons=0.3)\n",
        "      sum = sum + torch.sum(is_adv)\n",
        "      for i in range(50):\n",
        "        fgsm_adv.append(clipped[i])\n",
        "        fgsm_label.append(labels_batch[i])\n",
        "        fgsm_index.append(count+i)\n",
        "\n",
        "      count = count + i + 1\n",
        "    \n",
        "    with open (root_path_to_store+'/FGSM_indexs.pickle', 'wb') as fp:\n",
        "        pickle.dump(fgsm_index, fp)\n",
        "\n",
        "    with open (root_path_to_store+'/FGSM_adv_images.pickle', 'wb') as fp:\n",
        "        pickle.dump(fgsm_adv, fp)\n",
        "        \n",
        "    with open (root_path_to_store+'/FGSM_adv_label.pickle', 'wb') as fp:\n",
        "        pickle.dump(fgsm_label, fp)\n",
        "\n",
        "    print(\"model accuracy on adversarial examples : \", 1 - (sum/len(fgsm_adv)))"
      ],
      "metadata": {
        "id": "5sC4GwPa6NKj"
      },
      "execution_count": null,
      "outputs": []
    },
    {
      "cell_type": "code",
      "source": [
        "adv_root_folder = \"./adv/\"\n",
        "if not os.path.exists(adv_root_folder):\n",
        "    os.mkdir(adv_root_folder)"
      ],
      "metadata": {
        "id": "q2hTmZGe6O-m"
      },
      "execution_count": null,
      "outputs": []
    },
    {
      "cell_type": "code",
      "source": [
        "device = torch.device(\"cuda:0\" if torch.cuda.is_available() else \"cpu\")"
      ],
      "metadata": {
        "id": "o1Q_FzHW6Qt_"
      },
      "execution_count": null,
      "outputs": []
    },
    {
      "cell_type": "code",
      "source": [
        "model_path = \"/content/gdrive/My Drive/Colab Notebooks/CSE598/models_cnn/mnist_classifier.pth\"\n",
        "\n",
        "model = MnistCnn()\n",
        "model.load_state_dict(torch.load(model_path,map_location = torch.device(\"cpu\"))) # if no gpu else simple torch.load(model_path)\n",
        "model.to(device)"
      ],
      "metadata": {
        "colab": {
          "base_uri": "https://localhost:8080/"
        },
        "id": "7D2Hn1B26hcN",
        "outputId": "651a716f-4152-4d87-d369-125b1954cd93"
      },
      "execution_count": null,
      "outputs": [
        {
          "output_type": "execute_result",
          "data": {
            "text/plain": [
              "MnistCnn(\n",
              "  (conv): Sequential(\n",
              "    (0): Conv2d(1, 64, kernel_size=(5, 5), stride=(1, 1))\n",
              "    (1): ReLU()\n",
              "    (2): Conv2d(64, 64, kernel_size=(5, 5), stride=(2, 2))\n",
              "    (3): ReLU()\n",
              "    (4): Dropout(p=0.25, inplace=False)\n",
              "  )\n",
              "  (dense): Sequential(\n",
              "    (0): Linear(in_features=6400, out_features=128, bias=True)\n",
              "    (1): ReLU()\n",
              "    (2): Dropout(p=0.5, inplace=False)\n",
              "    (3): Linear(in_features=128, out_features=10, bias=True)\n",
              "  )\n",
              ")"
            ]
          },
          "metadata": {},
          "execution_count": 29
        }
      ]
    },
    {
      "cell_type": "code",
      "source": [
        "dataset_name = \"mnist\"\n",
        "fgsm_adv_generate(dataset_name,adv_root_folder,model,device,test_loader)"
      ],
      "metadata": {
        "colab": {
          "base_uri": "https://localhost:8080/"
        },
        "id": "a5BDGW3B6iqY",
        "outputId": "acc7b247-d8f3-4f7a-f5c3-f20c37ae0aaf"
      },
      "execution_count": null,
      "outputs": [
        {
          "output_type": "stream",
          "name": "stdout",
          "text": [
            "model accuracy on adversarial examples :  tensor(0.6081, device='cuda:0')\n"
          ]
        }
      ]
    },
    {
      "cell_type": "code",
      "source": [],
      "metadata": {
        "id": "PcxkxPMM6lZV"
      },
      "execution_count": null,
      "outputs": []
    }
  ]
}